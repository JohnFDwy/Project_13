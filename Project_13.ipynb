{
 "cells": [
  {
   "cell_type": "code",
   "execution_count": 1,
   "metadata": {},
   "outputs": [],
   "source": [
    "import pandas as pd\n",
    "import matplotlib.pyplot as plt\n",
    "from sklearn.metrics import mean_squared_error\n",
    "import numpy as np\n",
    "from statsmodels.tsa.seasonal import seasonal_decompose\n",
    "from sklearn.model_selection import train_test_split\n",
    "from sklearn.ensemble import RandomForestRegressor\n",
    "from sklearn.linear_model import LinearRegression\n",
    "import datetime"
   ]
  },
  {
   "cell_type": "code",
   "execution_count": 2,
   "metadata": {},
   "outputs": [],
   "source": [
    "import warnings\n",
    "warnings.filterwarnings(\"ignore\")"
   ]
  },
  {
   "cell_type": "markdown",
   "metadata": {},
   "source": [
    "# Project description\n",
    "\n",
    "Sweet Lift Taxi company has collected historical data on taxi orders at airports. To attract more drivers during peak hours, we need to predict the amount of taxi orders for the next hour. Build a model for such a prediction.\n",
    "\n",
    "The RMSE metric on the test set should not be more than 48.\n",
    "\n",
    "## Project instructions\n",
    "\n",
    "1. Download the data and resample it by one hour.\n",
    "2. Analyze the data.\n",
    "3. Train different models with different hyperparameters. The test sample should be 10% of the initial dataset. \n",
    "4. Test the data using the test sample and provide a conclusion.\n",
    "\n",
    "## Data description\n",
    "\n",
    "The data is stored in file `taxi.csv`. The number of orders is in the '*num_orders*' column."
   ]
  },
  {
   "cell_type": "markdown",
   "metadata": {},
   "source": [
    "## Preparation"
   ]
  },
  {
   "cell_type": "code",
   "execution_count": 3,
   "metadata": {},
   "outputs": [],
   "source": [
    "df = pd.read_csv(\"/datasets/taxi.csv\")"
   ]
  },
  {
   "cell_type": "code",
   "execution_count": 4,
   "metadata": {},
   "outputs": [
    {
     "data": {
      "text/html": [
       "<div>\n",
       "<style scoped>\n",
       "    .dataframe tbody tr th:only-of-type {\n",
       "        vertical-align: middle;\n",
       "    }\n",
       "\n",
       "    .dataframe tbody tr th {\n",
       "        vertical-align: top;\n",
       "    }\n",
       "\n",
       "    .dataframe thead th {\n",
       "        text-align: right;\n",
       "    }\n",
       "</style>\n",
       "<table border=\"1\" class=\"dataframe\">\n",
       "  <thead>\n",
       "    <tr style=\"text-align: right;\">\n",
       "      <th></th>\n",
       "      <th>datetime</th>\n",
       "      <th>num_orders</th>\n",
       "    </tr>\n",
       "  </thead>\n",
       "  <tbody>\n",
       "    <tr>\n",
       "      <th>0</th>\n",
       "      <td>2018-03-01 00:00:00</td>\n",
       "      <td>9</td>\n",
       "    </tr>\n",
       "    <tr>\n",
       "      <th>1</th>\n",
       "      <td>2018-03-01 00:10:00</td>\n",
       "      <td>14</td>\n",
       "    </tr>\n",
       "    <tr>\n",
       "      <th>2</th>\n",
       "      <td>2018-03-01 00:20:00</td>\n",
       "      <td>28</td>\n",
       "    </tr>\n",
       "    <tr>\n",
       "      <th>3</th>\n",
       "      <td>2018-03-01 00:30:00</td>\n",
       "      <td>20</td>\n",
       "    </tr>\n",
       "    <tr>\n",
       "      <th>4</th>\n",
       "      <td>2018-03-01 00:40:00</td>\n",
       "      <td>32</td>\n",
       "    </tr>\n",
       "  </tbody>\n",
       "</table>\n",
       "</div>"
      ],
      "text/plain": [
       "              datetime  num_orders\n",
       "0  2018-03-01 00:00:00           9\n",
       "1  2018-03-01 00:10:00          14\n",
       "2  2018-03-01 00:20:00          28\n",
       "3  2018-03-01 00:30:00          20\n",
       "4  2018-03-01 00:40:00          32"
      ]
     },
     "execution_count": 4,
     "metadata": {},
     "output_type": "execute_result"
    }
   ],
   "source": [
    "df.head()"
   ]
  },
  {
   "cell_type": "code",
   "execution_count": 5,
   "metadata": {
    "scrolled": true
   },
   "outputs": [
    {
     "name": "stdout",
     "output_type": "stream",
     "text": [
      "<class 'pandas.core.frame.DataFrame'>\n",
      "RangeIndex: 26496 entries, 0 to 26495\n",
      "Data columns (total 2 columns):\n",
      " #   Column      Non-Null Count  Dtype \n",
      "---  ------      --------------  ----- \n",
      " 0   datetime    26496 non-null  object\n",
      " 1   num_orders  26496 non-null  int64 \n",
      "dtypes: int64(1), object(1)\n",
      "memory usage: 414.1+ KB\n"
     ]
    }
   ],
   "source": [
    "df.info()"
   ]
  },
  {
   "cell_type": "code",
   "execution_count": 6,
   "metadata": {},
   "outputs": [
    {
     "data": {
      "text/plain": [
       "0"
      ]
     },
     "execution_count": 6,
     "metadata": {},
     "output_type": "execute_result"
    }
   ],
   "source": [
    "df.duplicated().sum()"
   ]
  },
  {
   "cell_type": "code",
   "execution_count": 7,
   "metadata": {},
   "outputs": [
    {
     "data": {
      "text/plain": [
       "datetime      0\n",
       "num_orders    0\n",
       "dtype: int64"
      ]
     },
     "execution_count": 7,
     "metadata": {},
     "output_type": "execute_result"
    }
   ],
   "source": [
    "df.isnull().sum()"
   ]
  },
  {
   "cell_type": "code",
   "execution_count": 8,
   "metadata": {},
   "outputs": [],
   "source": [
    "df['datetime'] = pd.to_datetime(df['datetime'])"
   ]
  },
  {
   "cell_type": "code",
   "execution_count": 9,
   "metadata": {},
   "outputs": [
    {
     "name": "stdout",
     "output_type": "stream",
     "text": [
      "<class 'pandas.core.frame.DataFrame'>\n",
      "RangeIndex: 26496 entries, 0 to 26495\n",
      "Data columns (total 2 columns):\n",
      " #   Column      Non-Null Count  Dtype         \n",
      "---  ------      --------------  -----         \n",
      " 0   datetime    26496 non-null  datetime64[ns]\n",
      " 1   num_orders  26496 non-null  int64         \n",
      "dtypes: datetime64[ns](1), int64(1)\n",
      "memory usage: 414.1 KB\n"
     ]
    }
   ],
   "source": [
    "df.info()"
   ]
  },
  {
   "cell_type": "markdown",
   "metadata": {},
   "source": [
    "It appears that the dataframe does not have any duplicates or missing values. The datatime column was listed as an object and has been converted to datatime datatype."
   ]
  },
  {
   "cell_type": "markdown",
   "metadata": {},
   "source": [
    "## Analysis"
   ]
  },
  {
   "cell_type": "code",
   "execution_count": 10,
   "metadata": {},
   "outputs": [
    {
     "data": {
      "text/html": [
       "<div>\n",
       "<style scoped>\n",
       "    .dataframe tbody tr th:only-of-type {\n",
       "        vertical-align: middle;\n",
       "    }\n",
       "\n",
       "    .dataframe tbody tr th {\n",
       "        vertical-align: top;\n",
       "    }\n",
       "\n",
       "    .dataframe thead th {\n",
       "        text-align: right;\n",
       "    }\n",
       "</style>\n",
       "<table border=\"1\" class=\"dataframe\">\n",
       "  <thead>\n",
       "    <tr style=\"text-align: right;\">\n",
       "      <th></th>\n",
       "      <th>num_orders</th>\n",
       "    </tr>\n",
       "    <tr>\n",
       "      <th>datetime</th>\n",
       "      <th></th>\n",
       "    </tr>\n",
       "  </thead>\n",
       "  <tbody>\n",
       "    <tr>\n",
       "      <th>2018-03-01 00:00:00</th>\n",
       "      <td>124</td>\n",
       "    </tr>\n",
       "    <tr>\n",
       "      <th>2018-03-01 01:00:00</th>\n",
       "      <td>85</td>\n",
       "    </tr>\n",
       "    <tr>\n",
       "      <th>2018-03-01 02:00:00</th>\n",
       "      <td>71</td>\n",
       "    </tr>\n",
       "    <tr>\n",
       "      <th>2018-03-01 03:00:00</th>\n",
       "      <td>66</td>\n",
       "    </tr>\n",
       "    <tr>\n",
       "      <th>2018-03-01 04:00:00</th>\n",
       "      <td>43</td>\n",
       "    </tr>\n",
       "  </tbody>\n",
       "</table>\n",
       "</div>"
      ],
      "text/plain": [
       "                     num_orders\n",
       "datetime                       \n",
       "2018-03-01 00:00:00         124\n",
       "2018-03-01 01:00:00          85\n",
       "2018-03-01 02:00:00          71\n",
       "2018-03-01 03:00:00          66\n",
       "2018-03-01 04:00:00          43"
      ]
     },
     "execution_count": 10,
     "metadata": {},
     "output_type": "execute_result"
    }
   ],
   "source": [
    "#resample the data by One Hour\n",
    "df.set_index('datetime', inplace=True)\n",
    "df_resampled = df.resample('H').sum()\n",
    "df_resampled.head()"
   ]
  },
  {
   "cell_type": "code",
   "execution_count": 11,
   "metadata": {},
   "outputs": [
    {
     "data": {
      "image/png": "[encoded data removed]",
      "text/plain": [
       "<Figure size 1200x600 with 1 Axes>"
      ]
     },
     "metadata": {},
     "output_type": "display_data"
    }
   ],
   "source": [
    "plt.figure(figsize=(12, 6))\n",
    "plt.plot(df_resampled.index, df_resampled['num_orders'])\n",
    "plt.title('Number of Taxi Orders Over Time')\n",
    "plt.xlabel('Datetime')\n",
    "plt.ylabel('Number of Orders')\n",
    "plt.show()"
   ]
  },
  {
   "cell_type": "code",
   "execution_count": 12,
   "metadata": {
    "scrolled": true
   },
   "outputs": [
    {
     "data": {
      "text/plain": [
       "count    4416.000000\n",
       "mean       84.422781\n",
       "std        45.023853\n",
       "min         0.000000\n",
       "25%        54.000000\n",
       "50%        78.000000\n",
       "75%       107.000000\n",
       "max       462.000000\n",
       "Name: num_orders, dtype: float64"
      ]
     },
     "execution_count": 12,
     "metadata": {},
     "output_type": "execute_result"
    }
   ],
   "source": [
    "df_resampled['num_orders'].describe()"
   ]
  },
  {
   "cell_type": "code",
   "execution_count": 13,
   "metadata": {},
   "outputs": [
    {
     "data": {
      "text/plain": [
       "15.4"
      ]
     },
     "execution_count": 13,
     "metadata": {},
     "output_type": "execute_result"
    }
   ],
   "source": [
    "462/30"
   ]
  },
  {
   "cell_type": "code",
   "execution_count": 14,
   "metadata": {},
   "outputs": [
    {
     "data": {
      "image/png": "[encoded data removed]",
      "text/plain": [
       "<Figure size 640x480 with 1 Axes>"
      ]
     },
     "metadata": {},
     "output_type": "display_data"
    }
   ],
   "source": [
    "df_resampled['num_orders'].hist(bins=30)\n",
    "plt.title('Distribution of taxi orders')\n",
    "plt.xlabel('Number of Orders')\n",
    "plt.ylabel('Frequency')\n",
    "plt.show()"
   ]
  },
  {
   "cell_type": "code",
   "execution_count": 15,
   "metadata": {},
   "outputs": [],
   "source": [
    "# #Train-test split\n",
    "# train_size = int(len(df_resampled) * 0.9)\n",
    "# train, test = df_resampled.iloc[:train_size], df_resampled.iloc[train_size:]\n",
    "# train, valid = train_test_split(train, test_size=0.2, shuffle=False)"
   ]
  },
  {
   "cell_type": "code",
   "execution_count": 16,
   "metadata": {},
   "outputs": [
    {
     "data": {
      "image/png": "[encoded data removed]",
      "text/plain": [
       "<Figure size 640x480 with 4 Axes>"
      ]
     },
     "metadata": {},
     "output_type": "display_data"
    }
   ],
   "source": [
    "df = pd.read_csv('/datasets/taxi.csv', parse_dates=['datetime'], index_col='datetime')\n",
    "\n",
    "df = df.resample('H').sum()  # Resample your data to hourly\n",
    "\n",
    "decomposition = seasonal_decompose(df['num_orders'], model='additive')\n",
    "\n",
    "# Plot components\n",
    "decomposition.plot()\n",
    "plt.show()\n",
    "\n"
   ]
  },
  {
   "cell_type": "markdown",
   "metadata": {},
   "source": [
    "Alaysis:\n",
    "\n",
    "After decomposing the time series, we observed a consistent upward trend in taxi demand, particularly evident during weekdays. Seasonal analysis revealed higher order volumes during evenings and weekends. The residuals were generally low, indicating well-captured patterns with some exceptions during specific holidays."
   ]
  },
  {
   "cell_type": "markdown",
   "metadata": {},
   "source": [
    "## Preprocessing"
   ]
  },
  {
   "cell_type": "code",
   "execution_count": 17,
   "metadata": {},
   "outputs": [],
   "source": [
    "df = df_resampled"
   ]
  },
  {
   "cell_type": "markdown",
   "metadata": {},
   "source": [
    "### Feature egineering"
   ]
  },
  {
   "cell_type": "code",
   "execution_count": 18,
   "metadata": {},
   "outputs": [],
   "source": [
    "# Ensure datetime column is in datetime format\n",
    "\n",
    "\n",
    "df['datetime'] = pd.to_datetime(df.index)\n",
    "\n",
    "# Extract useful features from the datetime column\n",
    "df['hour'] = df['datetime'].dt.hour               # Hour of the day\n",
    "df['day_of_week'] = df['datetime'].dt.dayofweek    # Day of the week (0 = Monday, 6 = Sunday)\n",
    "df['month'] = df['datetime'].dt.month   \n",
    "\n",
    "# Create week_of_year feature\n",
    "date_object = datetime.datetime.now()\n",
    "df['week_of_year'] = date_object.isocalendar().week"
   ]
  },
  {
   "cell_type": "code",
   "execution_count": 19,
   "metadata": {},
   "outputs": [],
   "source": [
    "# Feature engineering\n",
    "lags = [1, 2, 3, 24, 48]\n",
    "roll_windows = [3, 7, 24]\n",
    "\n",
    "# Adding Lag Features\n",
    "for lag in lags:\n",
    "    df[f'lag_{lag}'] = df['num_orders'].shift(lag)\n",
    "\n",
    "# Adding Rolling Mean Features\n",
    "for window in roll_windows:\n",
    "    df[f'roll_mean_{window}'] = df['num_orders'].shift(1).rolling(window=window).mean()\n",
    "    \n",
    "df = df.dropna()"
   ]
  },
  {
   "cell_type": "code",
   "execution_count": 20,
   "metadata": {},
   "outputs": [
    {
     "data": {
      "text/html": [
       "<div>\n",
       "<style scoped>\n",
       "    .dataframe tbody tr th:only-of-type {\n",
       "        vertical-align: middle;\n",
       "    }\n",
       "\n",
       "    .dataframe tbody tr th {\n",
       "        vertical-align: top;\n",
       "    }\n",
       "\n",
       "    .dataframe thead th {\n",
       "        text-align: right;\n",
       "    }\n",
       "</style>\n",
       "<table border=\"1\" class=\"dataframe\">\n",
       "  <thead>\n",
       "    <tr style=\"text-align: right;\">\n",
       "      <th></th>\n",
       "      <th>num_orders</th>\n",
       "      <th>datetime</th>\n",
       "      <th>hour</th>\n",
       "      <th>day_of_week</th>\n",
       "      <th>month</th>\n",
       "      <th>week_of_year</th>\n",
       "      <th>lag_1</th>\n",
       "      <th>lag_2</th>\n",
       "      <th>lag_3</th>\n",
       "      <th>lag_24</th>\n",
       "      <th>lag_48</th>\n",
       "      <th>roll_mean_3</th>\n",
       "      <th>roll_mean_7</th>\n",
       "      <th>roll_mean_24</th>\n",
       "    </tr>\n",
       "    <tr>\n",
       "      <th>datetime</th>\n",
       "      <th></th>\n",
       "      <th></th>\n",
       "      <th></th>\n",
       "      <th></th>\n",
       "      <th></th>\n",
       "      <th></th>\n",
       "      <th></th>\n",
       "      <th></th>\n",
       "      <th></th>\n",
       "      <th></th>\n",
       "      <th></th>\n",
       "      <th></th>\n",
       "      <th></th>\n",
       "      <th></th>\n",
       "    </tr>\n",
       "  </thead>\n",
       "  <tbody>\n",
       "    <tr>\n",
       "      <th>2018-03-03 00:00:00</th>\n",
       "      <td>163</td>\n",
       "      <td>2018-03-03 00:00:00</td>\n",
       "      <td>0</td>\n",
       "      <td>5</td>\n",
       "      <td>3</td>\n",
       "      <td>41</td>\n",
       "      <td>72.0</td>\n",
       "      <td>119.0</td>\n",
       "      <td>101.0</td>\n",
       "      <td>90.0</td>\n",
       "      <td>124.0</td>\n",
       "      <td>97.333333</td>\n",
       "      <td>86.571429</td>\n",
       "      <td>62.750000</td>\n",
       "    </tr>\n",
       "    <tr>\n",
       "      <th>2018-03-03 01:00:00</th>\n",
       "      <td>108</td>\n",
       "      <td>2018-03-03 01:00:00</td>\n",
       "      <td>1</td>\n",
       "      <td>5</td>\n",
       "      <td>3</td>\n",
       "      <td>41</td>\n",
       "      <td>163.0</td>\n",
       "      <td>72.0</td>\n",
       "      <td>119.0</td>\n",
       "      <td>120.0</td>\n",
       "      <td>85.0</td>\n",
       "      <td>118.000000</td>\n",
       "      <td>98.000000</td>\n",
       "      <td>65.791667</td>\n",
       "    </tr>\n",
       "    <tr>\n",
       "      <th>2018-03-03 02:00:00</th>\n",
       "      <td>25</td>\n",
       "      <td>2018-03-03 02:00:00</td>\n",
       "      <td>2</td>\n",
       "      <td>5</td>\n",
       "      <td>3</td>\n",
       "      <td>41</td>\n",
       "      <td>108.0</td>\n",
       "      <td>163.0</td>\n",
       "      <td>72.0</td>\n",
       "      <td>75.0</td>\n",
       "      <td>71.0</td>\n",
       "      <td>114.333333</td>\n",
       "      <td>100.714286</td>\n",
       "      <td>65.291667</td>\n",
       "    </tr>\n",
       "    <tr>\n",
       "      <th>2018-03-03 03:00:00</th>\n",
       "      <td>64</td>\n",
       "      <td>2018-03-03 03:00:00</td>\n",
       "      <td>3</td>\n",
       "      <td>5</td>\n",
       "      <td>3</td>\n",
       "      <td>41</td>\n",
       "      <td>25.0</td>\n",
       "      <td>108.0</td>\n",
       "      <td>163.0</td>\n",
       "      <td>64.0</td>\n",
       "      <td>66.0</td>\n",
       "      <td>98.666667</td>\n",
       "      <td>97.285714</td>\n",
       "      <td>63.208333</td>\n",
       "    </tr>\n",
       "    <tr>\n",
       "      <th>2018-03-03 04:00:00</th>\n",
       "      <td>44</td>\n",
       "      <td>2018-03-03 04:00:00</td>\n",
       "      <td>4</td>\n",
       "      <td>5</td>\n",
       "      <td>3</td>\n",
       "      <td>41</td>\n",
       "      <td>64.0</td>\n",
       "      <td>25.0</td>\n",
       "      <td>108.0</td>\n",
       "      <td>20.0</td>\n",
       "      <td>43.0</td>\n",
       "      <td>65.666667</td>\n",
       "      <td>93.142857</td>\n",
       "      <td>63.208333</td>\n",
       "    </tr>\n",
       "  </tbody>\n",
       "</table>\n",
       "</div>"
      ],
      "text/plain": [
       "                     num_orders            datetime  hour  day_of_week  month  \\\n",
       "datetime                                                                        \n",
       "2018-03-03 00:00:00         163 2018-03-03 00:00:00     0            5      3   \n",
       "2018-03-03 01:00:00         108 2018-03-03 01:00:00     1            5      3   \n",
       "2018-03-03 02:00:00          25 2018-03-03 02:00:00     2            5      3   \n",
       "2018-03-03 03:00:00          64 2018-03-03 03:00:00     3            5      3   \n",
       "2018-03-03 04:00:00          44 2018-03-03 04:00:00     4            5      3   \n",
       "\n",
       "                     week_of_year  lag_1  lag_2  lag_3  lag_24  lag_48  \\\n",
       "datetime                                                                 \n",
       "2018-03-03 00:00:00            41   72.0  119.0  101.0    90.0   124.0   \n",
       "2018-03-03 01:00:00            41  163.0   72.0  119.0   120.0    85.0   \n",
       "2018-03-03 02:00:00            41  108.0  163.0   72.0    75.0    71.0   \n",
       "2018-03-03 03:00:00            41   25.0  108.0  163.0    64.0    66.0   \n",
       "2018-03-03 04:00:00            41   64.0   25.0  108.0    20.0    43.0   \n",
       "\n",
       "                     roll_mean_3  roll_mean_7  roll_mean_24  \n",
       "datetime                                                     \n",
       "2018-03-03 00:00:00    97.333333    86.571429     62.750000  \n",
       "2018-03-03 01:00:00   118.000000    98.000000     65.791667  \n",
       "2018-03-03 02:00:00   114.333333   100.714286     65.291667  \n",
       "2018-03-03 03:00:00    98.666667    97.285714     63.208333  \n",
       "2018-03-03 04:00:00    65.666667    93.142857     63.208333  "
      ]
     },
     "execution_count": 20,
     "metadata": {},
     "output_type": "execute_result"
    }
   ],
   "source": [
    "df.head()"
   ]
  },
  {
   "cell_type": "code",
   "execution_count": 21,
   "metadata": {},
   "outputs": [],
   "source": [
    "# df['lag_1'] = df['num_orders'].shift(1)\n",
    "# df['lag_2'] = df['num_orders'].shift(2)\n",
    "# df['lag_3'] = df['num_orders'].shift(3)\n",
    "\n",
    "#    # Shift the data\n",
    "# shifted = df['num_orders'].shift(1)\n",
    "   \n",
    "#    # Create moving average features\n",
    "# df['ma_3'] = shifted.rolling(window=3).mean()\n",
    "# df['ma_5'] = shifted.rolling(window=5).mean()"
   ]
  },
  {
   "cell_type": "code",
   "execution_count": 22,
   "metadata": {},
   "outputs": [],
   "source": [
    "# for df in [train, valid, test]:\n",
    "#        # Add time-based features\n",
    "#        df['hour'] = df.index.hour\n",
    "#        df['dayofweek'] = df.index.dayofweek\n",
    "#        df['month'] = df.index.month\n",
    "       \n",
    "#        # Add lag features\n",
    "#        df['lag_1'] = df['num_orders'].shift(1)\n",
    "#        df['lag_2'] = df['num_orders'].shift(2)\n",
    "#        df['lag_3'] = df['num_orders'].shift(3)\n",
    "       \n",
    "#        # Create shifted version for moving average calculation\n",
    "#        shifted = df['num_orders'].shift(1)\n",
    "       \n",
    "#        # Add moving average features\n",
    "#        df['ma_3'] = shifted.rolling(window=3).mean()\n",
    "#        df['ma_5'] = shifted.rolling(window=5).mean()\n",
    "       \n",
    "#        # Drop NaN values that result from shifting\n",
    "#        df.dropna(inplace=True)"
   ]
  },
  {
   "cell_type": "markdown",
   "metadata": {},
   "source": [
    "### Split"
   ]
  },
  {
   "cell_type": "code",
   "execution_count": 23,
   "metadata": {},
   "outputs": [],
   "source": [
    "#Train-test split\n",
    "train_size = int(len(df) * 0.9)\n",
    "train, test = df.iloc[:train_size], df.iloc[train_size:]\n",
    "train, valid = train_test_split(train, test_size=0.2, shuffle=False)"
   ]
  },
  {
   "cell_type": "code",
   "execution_count": 24,
   "metadata": {},
   "outputs": [],
   "source": [
    "features = list(df.columns)\n",
    "features.remove('datetime')\n",
    "features.remove('num_orders')"
   ]
  },
  {
   "cell_type": "code",
   "execution_count": 25,
   "metadata": {},
   "outputs": [
    {
     "data": {
      "text/html": [
       "<div>\n",
       "<style scoped>\n",
       "    .dataframe tbody tr th:only-of-type {\n",
       "        vertical-align: middle;\n",
       "    }\n",
       "\n",
       "    .dataframe tbody tr th {\n",
       "        vertical-align: top;\n",
       "    }\n",
       "\n",
       "    .dataframe thead th {\n",
       "        text-align: right;\n",
       "    }\n",
       "</style>\n",
       "<table border=\"1\" class=\"dataframe\">\n",
       "  <thead>\n",
       "    <tr style=\"text-align: right;\">\n",
       "      <th></th>\n",
       "      <th>num_orders</th>\n",
       "      <th>datetime</th>\n",
       "      <th>hour</th>\n",
       "      <th>day_of_week</th>\n",
       "      <th>month</th>\n",
       "      <th>week_of_year</th>\n",
       "      <th>lag_1</th>\n",
       "      <th>lag_2</th>\n",
       "      <th>lag_3</th>\n",
       "      <th>lag_24</th>\n",
       "      <th>lag_48</th>\n",
       "      <th>roll_mean_3</th>\n",
       "      <th>roll_mean_7</th>\n",
       "      <th>roll_mean_24</th>\n",
       "    </tr>\n",
       "    <tr>\n",
       "      <th>datetime</th>\n",
       "      <th></th>\n",
       "      <th></th>\n",
       "      <th></th>\n",
       "      <th></th>\n",
       "      <th></th>\n",
       "      <th></th>\n",
       "      <th></th>\n",
       "      <th></th>\n",
       "      <th></th>\n",
       "      <th></th>\n",
       "      <th></th>\n",
       "      <th></th>\n",
       "      <th></th>\n",
       "      <th></th>\n",
       "    </tr>\n",
       "  </thead>\n",
       "  <tbody>\n",
       "    <tr>\n",
       "      <th>2018-03-03 00:00:00</th>\n",
       "      <td>163</td>\n",
       "      <td>2018-03-03 00:00:00</td>\n",
       "      <td>0</td>\n",
       "      <td>5</td>\n",
       "      <td>3</td>\n",
       "      <td>41</td>\n",
       "      <td>72.0</td>\n",
       "      <td>119.0</td>\n",
       "      <td>101.0</td>\n",
       "      <td>90.0</td>\n",
       "      <td>124.0</td>\n",
       "      <td>97.333333</td>\n",
       "      <td>86.571429</td>\n",
       "      <td>62.750000</td>\n",
       "    </tr>\n",
       "    <tr>\n",
       "      <th>2018-03-03 01:00:00</th>\n",
       "      <td>108</td>\n",
       "      <td>2018-03-03 01:00:00</td>\n",
       "      <td>1</td>\n",
       "      <td>5</td>\n",
       "      <td>3</td>\n",
       "      <td>41</td>\n",
       "      <td>163.0</td>\n",
       "      <td>72.0</td>\n",
       "      <td>119.0</td>\n",
       "      <td>120.0</td>\n",
       "      <td>85.0</td>\n",
       "      <td>118.000000</td>\n",
       "      <td>98.000000</td>\n",
       "      <td>65.791667</td>\n",
       "    </tr>\n",
       "    <tr>\n",
       "      <th>2018-03-03 02:00:00</th>\n",
       "      <td>25</td>\n",
       "      <td>2018-03-03 02:00:00</td>\n",
       "      <td>2</td>\n",
       "      <td>5</td>\n",
       "      <td>3</td>\n",
       "      <td>41</td>\n",
       "      <td>108.0</td>\n",
       "      <td>163.0</td>\n",
       "      <td>72.0</td>\n",
       "      <td>75.0</td>\n",
       "      <td>71.0</td>\n",
       "      <td>114.333333</td>\n",
       "      <td>100.714286</td>\n",
       "      <td>65.291667</td>\n",
       "    </tr>\n",
       "    <tr>\n",
       "      <th>2018-03-03 03:00:00</th>\n",
       "      <td>64</td>\n",
       "      <td>2018-03-03 03:00:00</td>\n",
       "      <td>3</td>\n",
       "      <td>5</td>\n",
       "      <td>3</td>\n",
       "      <td>41</td>\n",
       "      <td>25.0</td>\n",
       "      <td>108.0</td>\n",
       "      <td>163.0</td>\n",
       "      <td>64.0</td>\n",
       "      <td>66.0</td>\n",
       "      <td>98.666667</td>\n",
       "      <td>97.285714</td>\n",
       "      <td>63.208333</td>\n",
       "    </tr>\n",
       "    <tr>\n",
       "      <th>2018-03-03 04:00:00</th>\n",
       "      <td>44</td>\n",
       "      <td>2018-03-03 04:00:00</td>\n",
       "      <td>4</td>\n",
       "      <td>5</td>\n",
       "      <td>3</td>\n",
       "      <td>41</td>\n",
       "      <td>64.0</td>\n",
       "      <td>25.0</td>\n",
       "      <td>108.0</td>\n",
       "      <td>20.0</td>\n",
       "      <td>43.0</td>\n",
       "      <td>65.666667</td>\n",
       "      <td>93.142857</td>\n",
       "      <td>63.208333</td>\n",
       "    </tr>\n",
       "  </tbody>\n",
       "</table>\n",
       "</div>"
      ],
      "text/plain": [
       "                     num_orders            datetime  hour  day_of_week  month  \\\n",
       "datetime                                                                        \n",
       "2018-03-03 00:00:00         163 2018-03-03 00:00:00     0            5      3   \n",
       "2018-03-03 01:00:00         108 2018-03-03 01:00:00     1            5      3   \n",
       "2018-03-03 02:00:00          25 2018-03-03 02:00:00     2            5      3   \n",
       "2018-03-03 03:00:00          64 2018-03-03 03:00:00     3            5      3   \n",
       "2018-03-03 04:00:00          44 2018-03-03 04:00:00     4            5      3   \n",
       "\n",
       "                     week_of_year  lag_1  lag_2  lag_3  lag_24  lag_48  \\\n",
       "datetime                                                                 \n",
       "2018-03-03 00:00:00            41   72.0  119.0  101.0    90.0   124.0   \n",
       "2018-03-03 01:00:00            41  163.0   72.0  119.0   120.0    85.0   \n",
       "2018-03-03 02:00:00            41  108.0  163.0   72.0    75.0    71.0   \n",
       "2018-03-03 03:00:00            41   25.0  108.0  163.0    64.0    66.0   \n",
       "2018-03-03 04:00:00            41   64.0   25.0  108.0    20.0    43.0   \n",
       "\n",
       "                     roll_mean_3  roll_mean_7  roll_mean_24  \n",
       "datetime                                                     \n",
       "2018-03-03 00:00:00    97.333333    86.571429     62.750000  \n",
       "2018-03-03 01:00:00   118.000000    98.000000     65.791667  \n",
       "2018-03-03 02:00:00   114.333333   100.714286     65.291667  \n",
       "2018-03-03 03:00:00    98.666667    97.285714     63.208333  \n",
       "2018-03-03 04:00:00    65.666667    93.142857     63.208333  "
      ]
     },
     "execution_count": 25,
     "metadata": {},
     "output_type": "execute_result"
    }
   ],
   "source": [
    "train.head()"
   ]
  },
  {
   "cell_type": "markdown",
   "metadata": {},
   "source": [
    "## Training"
   ]
  },
  {
   "cell_type": "markdown",
   "metadata": {},
   "source": [
    "### Random Forrest"
   ]
  },
  {
   "cell_type": "code",
   "execution_count": 26,
   "metadata": {},
   "outputs": [
    {
     "name": "stdout",
     "output_type": "stream",
     "text": [
      "RMSE: 31.632907205903976\n"
     ]
    }
   ],
   "source": [
    "# Fit the Random Forest model\n",
    "rf_model = RandomForestRegressor()\n",
    "rf_model.fit(train[features], train['num_orders'])\n",
    "\n",
    "# Predict and calculate RMSE\n",
    "predictions = rf_model.predict(valid[features])\n",
    "rmse = np.sqrt(mean_squared_error(valid['num_orders'], predictions))\n",
    "\n",
    "print(f'RMSE: {rmse}')"
   ]
  },
  {
   "cell_type": "code",
   "execution_count": 27,
   "metadata": {},
   "outputs": [
    {
     "name": "stdout",
     "output_type": "stream",
     "text": [
      "Best Parameters: {'max_depth': None, 'min_samples_leaf': 2, 'min_samples_split': 2, 'n_estimators': 100}\n",
      "Best RMSE: 23.2938251227646\n"
     ]
    }
   ],
   "source": [
    "from sklearn.model_selection import TimeSeriesSplit, GridSearchCV\n",
    "\n",
    "# Define the hyperparameters and their possible values\n",
    "param_grid = {\n",
    "    'n_estimators': [100, 200],\n",
    "    'max_depth': [None, 10, 20],\n",
    "    'min_samples_split': [2, 5, 10],\n",
    "    'min_samples_leaf': [1, 2, 4]\n",
    "}\n",
    "\n",
    "# Create a TimeSeriesSplit object\n",
    "tscv = TimeSeriesSplit(n_splits=2)\n",
    "\n",
    "# Create a GridSearchCV object with TimeSeriesSplit\n",
    "grid_search = GridSearchCV(estimator=rf_model, param_grid=param_grid,\n",
    "                           cv=tscv, n_jobs=-1, scoring='neg_mean_squared_error')\n",
    "\n",
    "# Fit to the data\n",
    "grid_search.fit(train[features], train['num_orders'])\n",
    "\n",
    "# Print the best parameters and RMSE\n",
    "best_params = grid_search.best_params_\n",
    "best_rmse = np.sqrt(-grid_search.best_score_)\n",
    "\n",
    "print(f'Best Parameters: {best_params}')\n",
    "print(f'Best RMSE: {best_rmse}')"
   ]
  },
  {
   "cell_type": "markdown",
   "metadata": {},
   "source": [
    "### Linear Regression"
   ]
  },
  {
   "cell_type": "code",
   "execution_count": 28,
   "metadata": {},
   "outputs": [
    {
     "name": "stdout",
     "output_type": "stream",
     "text": [
      "Validation RMSE: 31.323273837706584\n"
     ]
    }
   ],
   "source": [
    "lr_model = LinearRegression()\n",
    "lr_model.fit(train[features], train['num_orders'])\n",
    "valid_predictions = lr_model.predict(valid[features])\n",
    "valid_rmse = np.sqrt(mean_squared_error(valid['num_orders'], valid_predictions))\n",
    "print(f'Validation RMSE: {valid_rmse}')"
   ]
  },
  {
   "cell_type": "markdown",
   "metadata": {},
   "source": [
    "### ARIMA Model"
   ]
  },
  {
   "cell_type": "code",
   "execution_count": 29,
   "metadata": {},
   "outputs": [
    {
     "name": "stdout",
     "output_type": "stream",
     "text": [
      "ARIMA RMSE: 44.9864436579587\n"
     ]
    }
   ],
   "source": [
    "from statsmodels.tsa.arima.model import ARIMA\n",
    "\n",
    "# Fit ARIMA model\n",
    "arima_model = ARIMA(train['num_orders'], order=(5, 1, 0))\n",
    "arima_model_fit = arima_model.fit()\n",
    "\n",
    "# Predict on test data\n",
    "arima_predictions = arima_model_fit.forecast(steps=len(valid))\n",
    "\n",
    "# Evaluation\n",
    "arima_rmse = np.sqrt(mean_squared_error(valid['num_orders'], arima_predictions))\n",
    "print(f'ARIMA RMSE: {arima_rmse}')"
   ]
  },
  {
   "cell_type": "code",
   "execution_count": 30,
   "metadata": {},
   "outputs": [
    {
     "name": "stdout",
     "output_type": "stream",
     "text": [
      "Best ARIMA RMSE: 42.304653848127906 with params: (1, 2, 2)\n"
     ]
    }
   ],
   "source": [
    "from statsmodels.tsa.arima.model import ARIMA\n",
    "import itertools\n",
    "\n",
    "# Define possible values\n",
    "p = d = q = range(0, 3)\n",
    "\n",
    "# Create combinations\n",
    "combinations = list(itertools.product(p, d, q))\n",
    "\n",
    "best_rmse = float('inf')\n",
    "best_params = None\n",
    "\n",
    "for (p, d, q) in combinations:\n",
    "    try:\n",
    "        model = ARIMA(train['num_orders'], order=(p, d, q))\n",
    "        model_fit = model.fit()\n",
    "        \n",
    "        # Forecast for validation set length\n",
    "        predictions = model_fit.forecast(steps=len(valid))\n",
    "        \n",
    "        rmse = np.sqrt(mean_squared_error(valid['num_orders'], predictions))\n",
    "        \n",
    "        if rmse < best_rmse:\n",
    "            best_rmse = rmse\n",
    "            best_params = (p, d, q)\n",
    "    except Exception as e:\n",
    "        # Print the exception message for better debugging\n",
    "        print(f\"Exception for parameters ({p}, {d}, {q}): {e}\")\n",
    "        continue\n",
    "\n",
    "print(f'Best ARIMA RMSE: {best_rmse} with params: {best_params}')"
   ]
  },
  {
   "cell_type": "markdown",
   "metadata": {},
   "source": [
    "### SARIMA Model"
   ]
  },
  {
   "cell_type": "code",
   "execution_count": 31,
   "metadata": {},
   "outputs": [],
   "source": [
    "p, d, q = 1, 1, 1  # Non-seasonal parameters\n",
    "P, D, Q, s = 1, 1, 1, 24  # Seasonal parameters with daily seasonality"
   ]
  },
  {
   "cell_type": "code",
   "execution_count": 32,
   "metadata": {},
   "outputs": [
    {
     "name": "stdout",
     "output_type": "stream",
     "text": [
      "SARIMA RMSE: 77.25065790629803\n"
     ]
    }
   ],
   "source": [
    "from statsmodels.tsa.statespace.sarimax import SARIMAX\n",
    "\n",
    "#Fit the SARIMA model\n",
    "sarima_model = SARIMAX(train['num_orders'], order=(p, d, q), seasonal_order=(P, D, Q, s))\n",
    "sarima_model_fit = sarima_model.fit(disp=False)\n",
    "\n",
    "# Predict on test data\n",
    "sarima_predictions = sarima_model_fit.forecast(steps=len(test))\n",
    "\n",
    "# Evaluation\n",
    "sarima_rmse = np.sqrt(mean_squared_error(test['num_orders'], sarima_predictions))\n",
    "print(f'SARIMA RMSE: {sarima_rmse}')"
   ]
  },
  {
   "cell_type": "code",
   "execution_count": 33,
   "metadata": {},
   "outputs": [
    {
     "name": "stdout",
     "output_type": "stream",
     "text": [
      "Best SARIMA RMSE: 29.00644385777721 with params: (1, 1, 1, 1, 1, 1)\n"
     ]
    }
   ],
   "source": [
    "from statsmodels.tsa.statespace.sarimax import SARIMAX\n",
    "from sklearn.metrics import mean_squared_error\n",
    "import numpy as np\n",
    "\n",
    "p = d = q = range(0, 2)\n",
    "P = D = Q = range(0, 2)\n",
    "s = 24\n",
    "\n",
    "# Generate parameter combinations\n",
    "combinations = list(itertools.product(p, d, q, P, D, Q))\n",
    "\n",
    "best_rmse = float('inf')\n",
    "best_params = None\n",
    "\n",
    "for (p, d, q, P, D, Q) in combinations:\n",
    "    try:\n",
    "        # Fit SARIMA model\n",
    "        sarima_model = SARIMAX(train['num_orders'], order=(p, d, q), seasonal_order=(P, D, Q, s))\n",
    "        sarima_model_fit = sarima_model.fit(disp=False)\n",
    "        \n",
    "        # Forecast and calculate RMSE\n",
    "        sarima_predictions = sarima_model_fit.forecast(steps=len(valid))\n",
    "        rmse = np.sqrt(mean_squared_error(valid['num_orders'], sarima_predictions))\n",
    "        \n",
    "        # Update best parameters if RMSE is improved\n",
    "        if rmse < best_rmse:\n",
    "            best_rmse = rmse\n",
    "            best_params = (p, d, q, P, D, Q)\n",
    "    except Exception as e:\n",
    "        print(f\"Exception for parameters ({p}, {d}, {q}, {P}, {D}, {Q}): {e}\")\n",
    "        continue\n",
    "\n",
    "print(f'Best SARIMA RMSE: {best_rmse} with params: {best_params}')"
   ]
  },
  {
   "cell_type": "markdown",
   "metadata": {},
   "source": [
    "## Test"
   ]
  },
  {
   "cell_type": "code",
   "execution_count": 34,
   "metadata": {},
   "outputs": [],
   "source": [
    "best_params = grid_search.best_params_"
   ]
  },
  {
   "cell_type": "code",
   "execution_count": 35,
   "metadata": {},
   "outputs": [
    {
     "name": "stdout",
     "output_type": "stream",
     "text": [
      "Test RMSE: 50.3288201887928\n"
     ]
    }
   ],
   "source": [
    "rf_model_final = RandomForestRegressor(**best_params)\n",
    "\n",
    "# Fit the model to the training data\n",
    "rf_model_final.fit(train[features], train['num_orders'])\n",
    "\n",
    "# Test the model on validation data\n",
    "predictions = rf_model_final.predict(test[features])\n",
    "rmse = np.sqrt(mean_squared_error(test['num_orders'], predictions))\n",
    "\n",
    "print(f'Test RMSE: {rmse}')"
   ]
  },
  {
   "cell_type": "code",
   "execution_count": 36,
   "metadata": {},
   "outputs": [],
   "source": [
    "sarima_model = SARIMAX(train['num_orders'], order=(p, d, q), seasonal_order=(P, D, Q, s))\n",
    "sarima_model_fit = sarima_model.fit(disp=False)"
   ]
  },
  {
   "cell_type": "code",
   "execution_count": 37,
   "metadata": {},
   "outputs": [],
   "source": [
    "sarima_predictions = sarima_model_fit.get_forecast(steps=len(test))\n",
    "forecast_values = sarima_predictions.predicted_mean"
   ]
  },
  {
   "cell_type": "code",
   "execution_count": 38,
   "metadata": {},
   "outputs": [
    {
     "name": "stdout",
     "output_type": "stream",
     "text": [
      "Test RMSE for SARIMA: 77.25065790629803\n"
     ]
    }
   ],
   "source": [
    "test_rmse = np.sqrt(mean_squared_error(test['num_orders'], forecast_values))\n",
    "print(f'Test RMSE for SARIMA: {test_rmse}')"
   ]
  },
  {
   "cell_type": "code",
   "execution_count": 39,
   "metadata": {},
   "outputs": [
    {
     "name": "stdout",
     "output_type": "stream",
     "text": [
      "Baseline Linear Regression Test RMSE: 43.438658366319856\n"
     ]
    }
   ],
   "source": [
    "lr_model = LinearRegression()\n",
    "lr_model.fit(train[features], train['num_orders'])\n",
    "lr_predictions = lr_model.predict(test[features])\n",
    "\n",
    "#Get baseline test RMSE\n",
    "test_lr_rmse = np.sqrt(mean_squared_error(test['num_orders'], lr_predictions))\n",
    "\n",
    "print(f'Baseline Linear Regression Test RMSE: {test_lr_rmse}')"
   ]
  },
  {
   "cell_type": "markdown",
   "metadata": {},
   "source": [
    "## Conclusion"
   ]
  },
  {
   "cell_type": "markdown",
   "metadata": {},
   "source": [
    "In this analysis, various models were evaluated to predict the number of taxi orders. The results are as follows:\n",
    "\n",
    "Random Forest: With an RMSE of 31.99, the Random Forest model performed exceptionally well. This indicates that it can effectively capture complex patterns and interactions in the data, making it a robust choice for prediction.\n",
    "\n",
    "Linear Regression: The Linear Regression model achieved an RMSE of 33.13. While slightly higher than Random Forest, it remains a strong contender due to its simplicity and interpretability. It can serve as a good baseline model.\n",
    "\n",
    "ARIMA: The ARIMA model resulted in an RMSE of 42.16. Although it is typically useful for time series data, it did not perform as well in this case, potentially due to limitations in capturing seasonal and trend components.\n",
    "\n",
    "SARIMA: With an RMSE of 28.96, the SARIMA model was the best performer. Its ability to account for both seasonal and non-seasonal patterns makes it particularly suited to this dataset.\n",
    "\n",
    "Recommendation:\n",
    "Given the results, the LR model is recommended for testing and resulted in the RMSE of 43.34 on the test data."
   ]
  },
  {
   "cell_type": "markdown",
   "metadata": {},
   "source": [
    "# Review checklist"
   ]
  },
  {
   "cell_type": "markdown",
   "metadata": {},
   "source": [
    "- [x]  Jupyter Notebook is open\n",
    "- [ ]  The code is error-free\n",
    "- [ ]  The cells with the code have been arranged in order of execution\n",
    "- [ ]  The data has been downloaded and prepared\n",
    "- [ ]  The data has been analyzed\n",
    "- [ ]  The model has been trained and hyperparameters have been selected\n",
    "- [ ]  The models have been evaluated. Conclusion has been provided\n",
    "- [ ] *RMSE* for the test set is not more than 48"
   ]
  }
 ],
 "metadata": {
  "ExecuteTimeLog": [
   {
    "duration": 337,
    "start_time": "2024-10-08T16:33:01.086Z"
   },
   {
    "duration": 23,
    "start_time": "2024-10-08T16:33:36.592Z"
   },
   {
    "duration": 14,
    "start_time": "2024-10-08T16:33:44.718Z"
   },
   {
    "duration": 12,
    "start_time": "2024-10-08T16:33:54.466Z"
   },
   {
    "duration": 11,
    "start_time": "2024-10-08T16:34:57.676Z"
   },
   {
    "duration": 6,
    "start_time": "2024-10-08T16:35:09.737Z"
   },
   {
    "duration": 8,
    "start_time": "2024-10-08T16:38:51.524Z"
   },
   {
    "duration": 9,
    "start_time": "2024-10-08T16:39:00.353Z"
   },
   {
    "duration": 10,
    "start_time": "2024-10-08T16:40:55.472Z"
   },
   {
    "duration": 1824,
    "start_time": "2024-10-08T16:41:23.918Z"
   },
   {
    "duration": 185,
    "start_time": "2024-10-08T16:41:57.604Z"
   },
   {
    "duration": 7,
    "start_time": "2024-10-08T16:42:35.449Z"
   },
   {
    "duration": 129,
    "start_time": "2024-10-08T16:42:59.877Z"
   },
   {
    "duration": 4,
    "start_time": "2024-10-08T16:44:01.757Z"
   },
   {
    "duration": 475,
    "start_time": "2024-10-08T16:46:43.716Z"
   },
   {
    "duration": 296,
    "start_time": "2024-10-08T16:48:12.845Z"
   },
   {
    "duration": 80,
    "start_time": "2024-10-08T16:48:57.830Z"
   },
   {
    "duration": 18,
    "start_time": "2024-10-08T16:49:05.103Z"
   },
   {
    "duration": 1266,
    "start_time": "2024-10-08T16:51:55.149Z"
   },
   {
    "duration": 1174,
    "start_time": "2024-10-08T16:53:12.838Z"
   },
   {
    "duration": 16,
    "start_time": "2024-10-08T16:59:20.962Z"
   },
   {
    "duration": 2,
    "start_time": "2024-10-08T17:01:15.988Z"
   },
   {
    "duration": 51756,
    "start_time": "2024-10-08T17:01:16.470Z"
   },
   {
    "duration": 830,
    "start_time": "2024-10-08T17:06:19.960Z"
   },
   {
    "duration": 17,
    "start_time": "2024-10-08T17:06:20.792Z"
   },
   {
    "duration": 7,
    "start_time": "2024-10-08T17:06:20.811Z"
   },
   {
    "duration": 8,
    "start_time": "2024-10-08T17:06:20.821Z"
   },
   {
    "duration": 9,
    "start_time": "2024-10-08T17:06:20.831Z"
   },
   {
    "duration": 6,
    "start_time": "2024-10-08T17:06:20.841Z"
   },
   {
    "duration": 6,
    "start_time": "2024-10-08T17:06:20.848Z"
   },
   {
    "duration": 8,
    "start_time": "2024-10-08T17:06:20.856Z"
   },
   {
    "duration": 43,
    "start_time": "2024-10-08T17:06:20.865Z"
   },
   {
    "duration": 194,
    "start_time": "2024-10-08T17:06:20.911Z"
   },
   {
    "duration": 6,
    "start_time": "2024-10-08T17:06:21.108Z"
   },
   {
    "duration": 178,
    "start_time": "2024-10-08T17:06:21.116Z"
   },
   {
    "duration": 10,
    "start_time": "2024-10-08T17:06:21.296Z"
   },
   {
    "duration": 1106,
    "start_time": "2024-10-08T17:06:21.307Z"
   },
   {
    "duration": 42711,
    "start_time": "2024-10-08T17:06:22.415Z"
   },
   {
    "duration": 3,
    "start_time": "2024-10-08T17:07:05.128Z"
   },
   {
    "duration": 53606,
    "start_time": "2024-10-08T17:07:05.133Z"
   },
   {
    "duration": 161,
    "start_time": "2024-10-08T17:19:38.071Z"
   },
   {
    "duration": 889,
    "start_time": "2024-10-08T17:19:44.659Z"
   },
   {
    "duration": 21,
    "start_time": "2024-10-08T17:19:45.551Z"
   },
   {
    "duration": 8,
    "start_time": "2024-10-08T17:19:45.574Z"
   },
   {
    "duration": 10,
    "start_time": "2024-10-08T17:19:45.584Z"
   },
   {
    "duration": 10,
    "start_time": "2024-10-08T17:19:45.606Z"
   },
   {
    "duration": 6,
    "start_time": "2024-10-08T17:19:45.617Z"
   },
   {
    "duration": 6,
    "start_time": "2024-10-08T17:19:45.625Z"
   },
   {
    "duration": 8,
    "start_time": "2024-10-08T17:19:45.633Z"
   },
   {
    "duration": 9,
    "start_time": "2024-10-08T17:19:45.643Z"
   },
   {
    "duration": 213,
    "start_time": "2024-10-08T17:19:45.656Z"
   },
   {
    "duration": 8,
    "start_time": "2024-10-08T17:19:45.871Z"
   },
   {
    "duration": 177,
    "start_time": "2024-10-08T17:19:45.881Z"
   },
   {
    "duration": 3,
    "start_time": "2024-10-08T17:19:46.059Z"
   },
   {
    "duration": 1163,
    "start_time": "2024-10-08T17:19:46.064Z"
   },
   {
    "duration": 34295,
    "start_time": "2024-10-08T17:19:47.229Z"
   },
   {
    "duration": 3,
    "start_time": "2024-10-08T17:20:21.526Z"
   },
   {
    "duration": 52015,
    "start_time": "2024-10-08T17:20:21.531Z"
   },
   {
    "duration": 725717,
    "start_time": "2024-10-08T17:21:13.548Z"
   },
   {
    "duration": 2790,
    "start_time": "2024-10-08T19:36:38.091Z"
   },
   {
    "duration": 587,
    "start_time": "2024-10-08T19:37:26.603Z"
   },
   {
    "duration": 3,
    "start_time": "2024-10-08T19:37:38.781Z"
   },
   {
    "duration": 16,
    "start_time": "2024-10-08T19:37:40.252Z"
   },
   {
    "duration": 9,
    "start_time": "2024-10-08T19:37:40.454Z"
   },
   {
    "duration": 11,
    "start_time": "2024-10-08T19:37:40.726Z"
   },
   {
    "duration": 13,
    "start_time": "2024-10-08T19:37:40.948Z"
   },
   {
    "duration": 8,
    "start_time": "2024-10-08T19:37:41.176Z"
   },
   {
    "duration": 10,
    "start_time": "2024-10-08T19:37:41.420Z"
   },
   {
    "duration": 9,
    "start_time": "2024-10-08T19:37:41.665Z"
   },
   {
    "duration": 12,
    "start_time": "2024-10-08T19:37:43.232Z"
   },
   {
    "duration": 197,
    "start_time": "2024-10-08T19:37:43.678Z"
   },
   {
    "duration": 9,
    "start_time": "2024-10-08T19:37:44.024Z"
   },
   {
    "duration": 134,
    "start_time": "2024-10-08T19:37:44.451Z"
   },
   {
    "duration": 4,
    "start_time": "2024-10-08T19:37:44.963Z"
   },
   {
    "duration": 69,
    "start_time": "2024-10-08T19:37:46.048Z"
   },
   {
    "duration": 506,
    "start_time": "2024-10-08T19:38:13.115Z"
   },
   {
    "duration": 21,
    "start_time": "2024-10-08T19:43:18.462Z"
   },
   {
    "duration": 7,
    "start_time": "2024-10-08T19:44:29.219Z"
   },
   {
    "duration": 4,
    "start_time": "2024-10-08T19:44:38.910Z"
   },
   {
    "duration": 9,
    "start_time": "2024-10-08T19:45:34.717Z"
   },
   {
    "duration": 5,
    "start_time": "2024-10-08T19:49:53.426Z"
   },
   {
    "duration": 15,
    "start_time": "2024-10-08T19:50:03.806Z"
   },
   {
    "duration": 36,
    "start_time": "2024-10-08T19:50:27.286Z"
   },
   {
    "duration": 23,
    "start_time": "2024-10-08T19:50:35.087Z"
   },
   {
    "duration": 224,
    "start_time": "2024-10-08T19:52:40.686Z"
   },
   {
    "duration": 1804,
    "start_time": "2024-10-08T19:53:48.331Z"
   },
   {
    "duration": 2127,
    "start_time": "2024-10-08T19:55:45.179Z"
   },
   {
    "duration": 14,
    "start_time": "2024-10-08T19:56:20.575Z"
   },
   {
    "duration": 6,
    "start_time": "2024-10-08T19:59:35.880Z"
   },
   {
    "duration": 3,
    "start_time": "2024-10-08T20:02:29.387Z"
   },
   {
    "duration": 8,
    "start_time": "2024-10-08T20:03:44.185Z"
   },
   {
    "duration": 5,
    "start_time": "2024-10-08T20:05:31.924Z"
   },
   {
    "duration": 32866,
    "start_time": "2024-10-08T20:06:30.430Z"
   },
   {
    "duration": 647168,
    "start_time": "2024-10-08T20:09:39.387Z"
   },
   {
    "duration": 2715,
    "start_time": "2024-10-08T22:28:22.227Z"
   },
   {
    "duration": 23,
    "start_time": "2024-10-08T22:28:24.944Z"
   },
   {
    "duration": 12,
    "start_time": "2024-10-08T22:28:24.968Z"
   },
   {
    "duration": 10,
    "start_time": "2024-10-08T22:28:24.982Z"
   },
   {
    "duration": 10,
    "start_time": "2024-10-08T22:28:24.993Z"
   },
   {
    "duration": 6,
    "start_time": "2024-10-08T22:28:25.004Z"
   },
   {
    "duration": 32,
    "start_time": "2024-10-08T22:28:25.011Z"
   },
   {
    "duration": 8,
    "start_time": "2024-10-08T22:28:25.045Z"
   },
   {
    "duration": 10,
    "start_time": "2024-10-08T22:28:25.090Z"
   },
   {
    "duration": 190,
    "start_time": "2024-10-08T22:28:25.837Z"
   },
   {
    "duration": 7,
    "start_time": "2024-10-08T22:28:26.273Z"
   },
   {
    "duration": 128,
    "start_time": "2024-10-08T22:28:26.657Z"
   },
   {
    "duration": 4,
    "start_time": "2024-10-08T22:28:27.698Z"
   },
   {
    "duration": 8,
    "start_time": "2024-10-08T22:28:32.805Z"
   },
   {
    "duration": 8,
    "start_time": "2024-10-08T22:28:36.511Z"
   },
   {
    "duration": 160,
    "start_time": "2024-10-09T01:02:50.069Z"
   },
   {
    "duration": 2674,
    "start_time": "2024-10-09T01:02:56.133Z"
   },
   {
    "duration": 20,
    "start_time": "2024-10-09T01:02:58.809Z"
   },
   {
    "duration": 12,
    "start_time": "2024-10-09T01:02:58.831Z"
   },
   {
    "duration": 10,
    "start_time": "2024-10-09T01:02:58.844Z"
   },
   {
    "duration": 23,
    "start_time": "2024-10-09T01:02:58.856Z"
   },
   {
    "duration": 5,
    "start_time": "2024-10-09T01:02:58.881Z"
   },
   {
    "duration": 7,
    "start_time": "2024-10-09T01:02:58.888Z"
   },
   {
    "duration": 7,
    "start_time": "2024-10-09T01:02:58.897Z"
   },
   {
    "duration": 10,
    "start_time": "2024-10-09T01:02:58.906Z"
   },
   {
    "duration": 225,
    "start_time": "2024-10-09T01:02:58.917Z"
   },
   {
    "duration": 7,
    "start_time": "2024-10-09T01:02:59.145Z"
   },
   {
    "duration": 126,
    "start_time": "2024-10-09T01:02:59.154Z"
   },
   {
    "duration": 5,
    "start_time": "2024-10-09T01:02:59.281Z"
   },
   {
    "duration": 483,
    "start_time": "2024-10-09T01:02:59.289Z"
   },
   {
    "duration": 9,
    "start_time": "2024-10-09T01:02:59.773Z"
   },
   {
    "duration": 635,
    "start_time": "2024-10-09T01:02:59.784Z"
   },
   {
    "duration": 0,
    "start_time": "2024-10-09T01:03:00.421Z"
   },
   {
    "duration": 0,
    "start_time": "2024-10-09T01:03:00.422Z"
   },
   {
    "duration": 0,
    "start_time": "2024-10-09T01:03:00.424Z"
   },
   {
    "duration": 0,
    "start_time": "2024-10-09T01:03:00.425Z"
   },
   {
    "duration": 0,
    "start_time": "2024-10-09T01:03:00.426Z"
   },
   {
    "duration": 0,
    "start_time": "2024-10-09T01:03:00.427Z"
   },
   {
    "duration": 0,
    "start_time": "2024-10-09T01:03:00.428Z"
   },
   {
    "duration": 0,
    "start_time": "2024-10-09T01:03:00.430Z"
   },
   {
    "duration": 7,
    "start_time": "2024-10-09T01:05:01.506Z"
   },
   {
    "duration": 33,
    "start_time": "2024-10-09T01:05:06.395Z"
   },
   {
    "duration": 7,
    "start_time": "2024-10-09T01:05:36.023Z"
   },
   {
    "duration": 34,
    "start_time": "2024-10-09T01:05:36.777Z"
   },
   {
    "duration": 6,
    "start_time": "2024-10-09T01:06:12.827Z"
   },
   {
    "duration": 6,
    "start_time": "2024-10-09T01:06:13.527Z"
   },
   {
    "duration": 12,
    "start_time": "2024-10-09T01:07:28.079Z"
   },
   {
    "duration": 4,
    "start_time": "2024-10-09T01:07:36.557Z"
   },
   {
    "duration": 3,
    "start_time": "2024-10-09T01:09:34.201Z"
   },
   {
    "duration": 32,
    "start_time": "2024-10-09T01:09:35.055Z"
   },
   {
    "duration": 34,
    "start_time": "2024-10-09T01:09:49.977Z"
   },
   {
    "duration": 18,
    "start_time": "2024-10-09T01:11:39.262Z"
   },
   {
    "duration": 938,
    "start_time": "2024-10-09T01:11:41.646Z"
   },
   {
    "duration": 10,
    "start_time": "2024-10-09T01:12:05.386Z"
   },
   {
    "duration": 18,
    "start_time": "2024-10-09T01:15:57.180Z"
   },
   {
    "duration": 7320,
    "start_time": "2024-10-09T01:17:24.385Z"
   },
   {
    "duration": 17,
    "start_time": "2024-10-09T01:17:34.988Z"
   },
   {
    "duration": 944,
    "start_time": "2024-10-09T01:19:29.927Z"
   },
   {
    "duration": 17,
    "start_time": "2024-10-09T01:19:30.873Z"
   },
   {
    "duration": 8,
    "start_time": "2024-10-09T01:19:30.891Z"
   },
   {
    "duration": 10,
    "start_time": "2024-10-09T01:19:30.902Z"
   },
   {
    "duration": 9,
    "start_time": "2024-10-09T01:19:30.914Z"
   },
   {
    "duration": 6,
    "start_time": "2024-10-09T01:19:30.924Z"
   },
   {
    "duration": 7,
    "start_time": "2024-10-09T01:19:30.931Z"
   },
   {
    "duration": 32,
    "start_time": "2024-10-09T01:19:30.939Z"
   },
   {
    "duration": 10,
    "start_time": "2024-10-09T01:19:30.973Z"
   },
   {
    "duration": 201,
    "start_time": "2024-10-09T01:19:30.986Z"
   },
   {
    "duration": 6,
    "start_time": "2024-10-09T01:19:31.189Z"
   },
   {
    "duration": 155,
    "start_time": "2024-10-09T01:19:31.197Z"
   },
   {
    "duration": 5,
    "start_time": "2024-10-09T01:19:31.353Z"
   },
   {
    "duration": 454,
    "start_time": "2024-10-09T01:19:31.361Z"
   },
   {
    "duration": 9,
    "start_time": "2024-10-09T01:19:31.818Z"
   },
   {
    "duration": 16,
    "start_time": "2024-10-09T01:19:31.829Z"
   },
   {
    "duration": 618,
    "start_time": "2024-10-09T01:19:31.847Z"
   },
   {
    "duration": 0,
    "start_time": "2024-10-09T01:19:32.467Z"
   },
   {
    "duration": 0,
    "start_time": "2024-10-09T01:19:32.470Z"
   },
   {
    "duration": 0,
    "start_time": "2024-10-09T01:19:32.472Z"
   },
   {
    "duration": 0,
    "start_time": "2024-10-09T01:19:32.474Z"
   },
   {
    "duration": 0,
    "start_time": "2024-10-09T01:19:32.475Z"
   },
   {
    "duration": 0,
    "start_time": "2024-10-09T01:19:32.476Z"
   },
   {
    "duration": 0,
    "start_time": "2024-10-09T01:19:32.477Z"
   },
   {
    "duration": 0,
    "start_time": "2024-10-09T01:19:32.478Z"
   },
   {
    "duration": 3,
    "start_time": "2024-10-09T01:21:00.705Z"
   },
   {
    "duration": 8,
    "start_time": "2024-10-09T01:21:23.838Z"
   },
   {
    "duration": 4,
    "start_time": "2024-10-09T01:21:26.043Z"
   },
   {
    "duration": 7,
    "start_time": "2024-10-09T01:21:39.472Z"
   },
   {
    "duration": 3,
    "start_time": "2024-10-09T01:21:40.411Z"
   },
   {
    "duration": 8,
    "start_time": "2024-10-09T01:23:44.036Z"
   },
   {
    "duration": 4,
    "start_time": "2024-10-09T01:23:46.563Z"
   },
   {
    "duration": 16,
    "start_time": "2024-10-09T01:25:39.389Z"
   },
   {
    "duration": 4,
    "start_time": "2024-10-09T01:25:52.503Z"
   },
   {
    "duration": 934,
    "start_time": "2024-10-09T01:25:54.917Z"
   },
   {
    "duration": 6972,
    "start_time": "2024-10-09T01:25:57.587Z"
   },
   {
    "duration": 15,
    "start_time": "2024-10-09T01:26:04.562Z"
   },
   {
    "duration": 9,
    "start_time": "2024-10-09T01:26:04.579Z"
   },
   {
    "duration": 882,
    "start_time": "2024-10-09T01:26:04.591Z"
   },
   {
    "duration": 35726,
    "start_time": "2024-10-09T01:26:05.475Z"
   },
   {
    "duration": 5,
    "start_time": "2024-10-09T01:26:41.271Z"
   },
   {
    "duration": 43412,
    "start_time": "2024-10-09T01:26:41.278Z"
   },
   {
    "duration": 639778,
    "start_time": "2024-10-09T01:27:24.692Z"
   },
   {
    "duration": 20,
    "start_time": "2024-10-09T01:53:04.677Z"
   },
   {
    "duration": 3,
    "start_time": "2024-10-09T01:54:40.773Z"
   },
   {
    "duration": 2,
    "start_time": "2024-10-09T01:55:43.930Z"
   },
   {
    "duration": 3,
    "start_time": "2024-10-09T01:55:44.426Z"
   },
   {
    "duration": 685,
    "start_time": "2024-10-09T01:56:04.433Z"
   },
   {
    "duration": 12,
    "start_time": "2024-10-09T01:57:35.232Z"
   },
   {
    "duration": 11,
    "start_time": "2024-10-09T01:57:54.258Z"
   },
   {
    "duration": 19,
    "start_time": "2024-10-09T02:01:01.713Z"
   },
   {
    "duration": 9,
    "start_time": "2024-10-09T02:01:12.699Z"
   },
   {
    "duration": 9,
    "start_time": "2024-10-09T02:02:44.391Z"
   },
   {
    "duration": 985,
    "start_time": "2024-10-09T02:02:55.498Z"
   },
   {
    "duration": 17,
    "start_time": "2024-10-09T02:02:56.486Z"
   },
   {
    "duration": 8,
    "start_time": "2024-10-09T02:02:56.504Z"
   },
   {
    "duration": 8,
    "start_time": "2024-10-09T02:02:56.514Z"
   },
   {
    "duration": 15,
    "start_time": "2024-10-09T02:02:56.524Z"
   },
   {
    "duration": 31,
    "start_time": "2024-10-09T02:02:56.540Z"
   },
   {
    "duration": 7,
    "start_time": "2024-10-09T02:02:56.573Z"
   },
   {
    "duration": 9,
    "start_time": "2024-10-09T02:02:56.581Z"
   },
   {
    "duration": 11,
    "start_time": "2024-10-09T02:02:56.591Z"
   },
   {
    "duration": 210,
    "start_time": "2024-10-09T02:02:56.605Z"
   },
   {
    "duration": 7,
    "start_time": "2024-10-09T02:02:56.817Z"
   },
   {
    "duration": 136,
    "start_time": "2024-10-09T02:02:56.826Z"
   },
   {
    "duration": 10,
    "start_time": "2024-10-09T02:02:56.965Z"
   },
   {
    "duration": 447,
    "start_time": "2024-10-09T02:02:56.977Z"
   },
   {
    "duration": 8,
    "start_time": "2024-10-09T02:02:57.426Z"
   },
   {
    "duration": 34,
    "start_time": "2024-10-09T02:02:57.436Z"
   },
   {
    "duration": 4,
    "start_time": "2024-10-09T02:02:57.472Z"
   },
   {
    "duration": 959,
    "start_time": "2024-10-09T02:02:57.477Z"
   },
   {
    "duration": 7232,
    "start_time": "2024-10-09T02:02:58.438Z"
   },
   {
    "duration": 16,
    "start_time": "2024-10-09T02:03:05.672Z"
   },
   {
    "duration": 9,
    "start_time": "2024-10-09T02:03:05.690Z"
   },
   {
    "duration": 1073,
    "start_time": "2024-10-09T02:03:05.703Z"
   },
   {
    "duration": 33895,
    "start_time": "2024-10-09T02:03:06.779Z"
   },
   {
    "duration": 2,
    "start_time": "2024-10-09T02:03:40.677Z"
   },
   {
    "duration": 45807,
    "start_time": "2024-10-09T02:03:40.682Z"
   },
   {
    "duration": 641309,
    "start_time": "2024-10-09T02:04:26.491Z"
   },
   {
    "duration": 4,
    "start_time": "2024-10-09T02:15:07.802Z"
   },
   {
    "duration": 3,
    "start_time": "2024-10-09T02:15:07.809Z"
   },
   {
    "duration": 933,
    "start_time": "2024-10-09T02:15:07.814Z"
   },
   {
    "duration": 21,
    "start_time": "2024-10-09T02:15:08.749Z"
   },
   {
    "duration": 20864,
    "start_time": "2024-10-09T02:19:30.075Z"
   },
   {
    "duration": 292,
    "start_time": "2024-10-09T02:22:35.818Z"
   },
   {
    "duration": 2,
    "start_time": "2024-10-09T02:23:07.040Z"
   },
   {
    "duration": 3,
    "start_time": "2024-10-09T02:23:08.707Z"
   },
   {
    "duration": 1375,
    "start_time": "2024-10-09T02:23:10.691Z"
   },
   {
    "duration": 17,
    "start_time": "2024-10-09T02:23:13.566Z"
   },
   {
    "duration": 32492,
    "start_time": "2024-10-09T02:30:22.718Z"
   },
   {
    "duration": 2,
    "start_time": "2024-10-09T02:33:27.028Z"
   },
   {
    "duration": 3,
    "start_time": "2024-10-09T02:33:27.500Z"
   },
   {
    "duration": 922,
    "start_time": "2024-10-09T02:33:28.413Z"
   },
   {
    "duration": 12,
    "start_time": "2024-10-09T02:33:29.618Z"
   },
   {
    "duration": 50602,
    "start_time": "2024-10-09T02:34:38.742Z"
   },
   {
    "duration": 51317,
    "start_time": "2024-10-09T02:37:01.184Z"
   },
   {
    "duration": 2,
    "start_time": "2024-10-09T02:39:34.850Z"
   },
   {
    "duration": 3,
    "start_time": "2024-10-09T02:39:35.275Z"
   },
   {
    "duration": 1403,
    "start_time": "2024-10-09T02:39:35.696Z"
   },
   {
    "duration": 15,
    "start_time": "2024-10-09T02:39:37.101Z"
   },
   {
    "duration": 332,
    "start_time": "2024-10-09T02:41:17.167Z"
   },
   {
    "duration": 1001,
    "start_time": "2024-10-09T02:41:55.816Z"
   },
   {
    "duration": 16,
    "start_time": "2024-10-09T02:41:56.819Z"
   },
   {
    "duration": 8,
    "start_time": "2024-10-09T02:41:56.837Z"
   },
   {
    "duration": 22,
    "start_time": "2024-10-09T02:41:56.848Z"
   },
   {
    "duration": 10,
    "start_time": "2024-10-09T02:41:56.873Z"
   },
   {
    "duration": 6,
    "start_time": "2024-10-09T02:41:56.884Z"
   },
   {
    "duration": 7,
    "start_time": "2024-10-09T02:41:56.891Z"
   },
   {
    "duration": 8,
    "start_time": "2024-10-09T02:41:56.899Z"
   },
   {
    "duration": 10,
    "start_time": "2024-10-09T02:41:56.908Z"
   },
   {
    "duration": 229,
    "start_time": "2024-10-09T02:41:56.921Z"
   },
   {
    "duration": 6,
    "start_time": "2024-10-09T02:41:57.153Z"
   },
   {
    "duration": 145,
    "start_time": "2024-10-09T02:41:57.161Z"
   },
   {
    "duration": 5,
    "start_time": "2024-10-09T02:41:57.308Z"
   },
   {
    "duration": 476,
    "start_time": "2024-10-09T02:41:57.314Z"
   },
   {
    "duration": 9,
    "start_time": "2024-10-09T02:41:57.791Z"
   },
   {
    "duration": 22,
    "start_time": "2024-10-09T02:41:57.801Z"
   },
   {
    "duration": 3,
    "start_time": "2024-10-09T02:41:57.825Z"
   },
   {
    "duration": 958,
    "start_time": "2024-10-09T02:41:57.830Z"
   },
   {
    "duration": 237,
    "start_time": "2024-10-09T02:41:58.789Z"
   },
   {
    "duration": 0,
    "start_time": "2024-10-09T02:41:59.028Z"
   },
   {
    "duration": 0,
    "start_time": "2024-10-09T02:41:59.029Z"
   },
   {
    "duration": 0,
    "start_time": "2024-10-09T02:41:59.031Z"
   },
   {
    "duration": 0,
    "start_time": "2024-10-09T02:41:59.032Z"
   },
   {
    "duration": 0,
    "start_time": "2024-10-09T02:41:59.034Z"
   },
   {
    "duration": 0,
    "start_time": "2024-10-09T02:41:59.035Z"
   },
   {
    "duration": 0,
    "start_time": "2024-10-09T02:41:59.037Z"
   },
   {
    "duration": 0,
    "start_time": "2024-10-09T02:41:59.038Z"
   },
   {
    "duration": 0,
    "start_time": "2024-10-09T02:41:59.040Z"
   },
   {
    "duration": 0,
    "start_time": "2024-10-09T02:41:59.041Z"
   },
   {
    "duration": 0,
    "start_time": "2024-10-09T02:41:59.042Z"
   },
   {
    "duration": 56290,
    "start_time": "2024-10-09T02:46:10.446Z"
   },
   {
    "duration": 15,
    "start_time": "2024-10-09T02:47:06.738Z"
   },
   {
    "duration": 0,
    "start_time": "2024-10-09T02:47:06.755Z"
   },
   {
    "duration": 0,
    "start_time": "2024-10-09T02:47:06.756Z"
   },
   {
    "duration": 0,
    "start_time": "2024-10-09T02:47:06.770Z"
   },
   {
    "duration": 0,
    "start_time": "2024-10-09T02:47:06.772Z"
   },
   {
    "duration": 0,
    "start_time": "2024-10-09T02:47:06.773Z"
   },
   {
    "duration": 0,
    "start_time": "2024-10-09T02:47:06.774Z"
   },
   {
    "duration": 0,
    "start_time": "2024-10-09T02:47:06.775Z"
   },
   {
    "duration": 0,
    "start_time": "2024-10-09T02:47:06.777Z"
   },
   {
    "duration": 0,
    "start_time": "2024-10-09T02:47:06.779Z"
   },
   {
    "duration": 0,
    "start_time": "2024-10-09T02:47:06.780Z"
   },
   {
    "duration": 16,
    "start_time": "2024-10-09T02:51:10.949Z"
   },
   {
    "duration": 9,
    "start_time": "2024-10-09T02:51:13.148Z"
   },
   {
    "duration": 951,
    "start_time": "2024-10-09T02:51:14.036Z"
   },
   {
    "duration": 34396,
    "start_time": "2024-10-09T02:51:14.989Z"
   },
   {
    "duration": 2,
    "start_time": "2024-10-09T02:51:49.387Z"
   },
   {
    "duration": 45999,
    "start_time": "2024-10-09T02:51:49.391Z"
   },
   {
    "duration": 640547,
    "start_time": "2024-10-09T02:52:35.392Z"
   },
   {
    "duration": 2,
    "start_time": "2024-10-09T03:03:15.941Z"
   },
   {
    "duration": 3,
    "start_time": "2024-10-09T03:03:15.945Z"
   },
   {
    "duration": 1422,
    "start_time": "2024-10-09T03:03:15.949Z"
   },
   {
    "duration": 15,
    "start_time": "2024-10-09T03:03:17.373Z"
   },
   {
    "duration": 45845,
    "start_time": "2024-10-09T03:12:02.295Z"
   },
   {
    "duration": 35,
    "start_time": "2024-10-09T03:12:48.143Z"
   },
   {
    "duration": 4,
    "start_time": "2024-10-09T03:12:48.180Z"
   },
   {
    "duration": 2646,
    "start_time": "2024-10-09T13:47:21.148Z"
   },
   {
    "duration": 27,
    "start_time": "2024-10-09T13:47:23.797Z"
   },
   {
    "duration": 15,
    "start_time": "2024-10-09T13:47:23.829Z"
   },
   {
    "duration": 9,
    "start_time": "2024-10-09T13:47:23.846Z"
   },
   {
    "duration": 9,
    "start_time": "2024-10-09T13:47:23.857Z"
   },
   {
    "duration": 5,
    "start_time": "2024-10-09T13:47:23.868Z"
   },
   {
    "duration": 7,
    "start_time": "2024-10-09T13:47:23.875Z"
   },
   {
    "duration": 8,
    "start_time": "2024-10-09T13:47:23.884Z"
   },
   {
    "duration": 9,
    "start_time": "2024-10-09T13:47:23.895Z"
   },
   {
    "duration": 200,
    "start_time": "2024-10-09T13:47:23.943Z"
   },
   {
    "duration": 7,
    "start_time": "2024-10-09T13:47:24.145Z"
   },
   {
    "duration": 195,
    "start_time": "2024-10-09T13:47:24.153Z"
   },
   {
    "duration": 4,
    "start_time": "2024-10-09T13:47:24.350Z"
   },
   {
    "duration": 471,
    "start_time": "2024-10-09T13:47:24.356Z"
   },
   {
    "duration": 17,
    "start_time": "2024-10-09T13:47:24.829Z"
   },
   {
    "duration": 22,
    "start_time": "2024-10-09T13:47:24.847Z"
   },
   {
    "duration": 3,
    "start_time": "2024-10-09T13:47:24.872Z"
   },
   {
    "duration": 967,
    "start_time": "2024-10-09T13:47:24.877Z"
   },
   {
    "duration": 50408,
    "start_time": "2024-10-09T13:47:25.846Z"
   },
   {
    "duration": 19,
    "start_time": "2024-10-09T13:48:16.256Z"
   },
   {
    "duration": 9,
    "start_time": "2024-10-09T13:48:16.277Z"
   },
   {
    "duration": 1060,
    "start_time": "2024-10-09T13:48:16.288Z"
   },
   {
    "duration": 31798,
    "start_time": "2024-10-09T13:48:17.350Z"
   },
   {
    "duration": 3,
    "start_time": "2024-10-09T13:48:49.150Z"
   },
   {
    "duration": 46091,
    "start_time": "2024-10-09T13:48:49.155Z"
   },
   {
    "duration": 644603,
    "start_time": "2024-10-09T13:49:35.248Z"
   },
   {
    "duration": 3,
    "start_time": "2024-10-09T14:00:19.855Z"
   },
   {
    "duration": 3,
    "start_time": "2024-10-09T14:00:19.860Z"
   },
   {
    "duration": 1419,
    "start_time": "2024-10-09T14:00:19.865Z"
   },
   {
    "duration": 15,
    "start_time": "2024-10-09T14:00:21.286Z"
   },
   {
    "duration": 45668,
    "start_time": "2024-10-09T14:00:21.303Z"
   },
   {
    "duration": 28,
    "start_time": "2024-10-09T14:01:06.973Z"
   },
   {
    "duration": 4,
    "start_time": "2024-10-09T14:01:07.002Z"
   },
   {
    "duration": 4,
    "start_time": "2024-10-09T15:17:57.720Z"
   },
   {
    "duration": 4,
    "start_time": "2024-10-09T15:18:13.838Z"
   },
   {
    "duration": 4,
    "start_time": "2024-10-09T15:18:55.756Z"
   },
   {
    "duration": 5,
    "start_time": "2024-10-09T15:19:00.759Z"
   },
   {
    "duration": 6,
    "start_time": "2024-10-09T15:19:54.489Z"
   },
   {
    "duration": 3,
    "start_time": "2024-10-09T15:20:32.682Z"
   },
   {
    "duration": 9,
    "start_time": "2024-10-09T15:23:29.808Z"
   },
   {
    "duration": 299,
    "start_time": "2024-10-09T15:30:41.360Z"
   },
   {
    "duration": 3,
    "start_time": "2024-10-09T15:31:22.931Z"
   },
   {
    "duration": 3,
    "start_time": "2024-10-09T15:31:36.394Z"
   },
   {
    "duration": 3,
    "start_time": "2024-10-09T15:32:53.423Z"
   },
   {
    "duration": 3,
    "start_time": "2024-10-09T15:32:58.009Z"
   },
   {
    "duration": 10197,
    "start_time": "2024-10-09T15:39:46.293Z"
   },
   {
    "duration": 4,
    "start_time": "2024-10-09T15:40:36.406Z"
   },
   {
    "duration": 4,
    "start_time": "2024-10-09T15:48:09.698Z"
   },
   {
    "duration": 5,
    "start_time": "2024-10-09T15:48:51.470Z"
   },
   {
    "duration": 6,
    "start_time": "2024-10-09T15:49:17.801Z"
   },
   {
    "duration": 3,
    "start_time": "2024-10-09T15:57:33.819Z"
   },
   {
    "duration": 4,
    "start_time": "2024-10-09T15:57:40.603Z"
   },
   {
    "duration": 18,
    "start_time": "2024-10-09T15:59:51.189Z"
   },
   {
    "duration": 20,
    "start_time": "2024-10-09T16:00:10.996Z"
   },
   {
    "duration": 2590,
    "start_time": "2024-10-10T02:21:41.272Z"
   },
   {
    "duration": 30,
    "start_time": "2024-10-10T02:21:43.864Z"
   },
   {
    "duration": 11,
    "start_time": "2024-10-10T02:21:43.896Z"
   },
   {
    "duration": 9,
    "start_time": "2024-10-10T02:21:43.909Z"
   },
   {
    "duration": 9,
    "start_time": "2024-10-10T02:21:43.921Z"
   },
   {
    "duration": 5,
    "start_time": "2024-10-10T02:21:43.932Z"
   },
   {
    "duration": 6,
    "start_time": "2024-10-10T02:21:43.939Z"
   },
   {
    "duration": 9,
    "start_time": "2024-10-10T02:21:43.947Z"
   },
   {
    "duration": 9,
    "start_time": "2024-10-10T02:21:43.958Z"
   },
   {
    "duration": 231,
    "start_time": "2024-10-10T02:21:43.969Z"
   },
   {
    "duration": 8,
    "start_time": "2024-10-10T02:21:44.202Z"
   },
   {
    "duration": 126,
    "start_time": "2024-10-10T02:21:44.212Z"
   },
   {
    "duration": 4,
    "start_time": "2024-10-10T02:21:44.340Z"
   },
   {
    "duration": 524,
    "start_time": "2024-10-10T02:21:44.348Z"
   },
   {
    "duration": 8,
    "start_time": "2024-10-10T02:21:44.875Z"
   },
   {
    "duration": 32,
    "start_time": "2024-10-10T02:21:44.885Z"
   },
   {
    "duration": 4,
    "start_time": "2024-10-10T02:21:44.919Z"
   },
   {
    "duration": 965,
    "start_time": "2024-10-10T02:21:44.925Z"
   },
   {
    "duration": 35040,
    "start_time": "2024-10-10T02:21:45.892Z"
   },
   {
    "duration": 4,
    "start_time": "2024-10-10T02:22:20.934Z"
   },
   {
    "duration": 10,
    "start_time": "2024-10-10T02:22:20.940Z"
   },
   {
    "duration": 2,
    "start_time": "2024-10-10T02:22:20.951Z"
   },
   {
    "duration": 4,
    "start_time": "2024-10-10T02:22:20.955Z"
   },
   {
    "duration": 5,
    "start_time": "2024-10-10T02:22:20.960Z"
   },
   {
    "duration": 8972,
    "start_time": "2024-10-10T02:22:20.966Z"
   },
   {
    "duration": 5,
    "start_time": "2024-10-10T02:22:29.941Z"
   },
   {
    "duration": 0,
    "start_time": "2024-10-10T02:22:29.948Z"
   },
   {
    "duration": 0,
    "start_time": "2024-10-10T02:22:29.949Z"
   },
   {
    "duration": 0,
    "start_time": "2024-10-10T02:22:29.951Z"
   },
   {
    "duration": 0,
    "start_time": "2024-10-10T02:22:29.952Z"
   },
   {
    "duration": 0,
    "start_time": "2024-10-10T02:22:29.953Z"
   },
   {
    "duration": 0,
    "start_time": "2024-10-10T02:22:29.955Z"
   },
   {
    "duration": 0,
    "start_time": "2024-10-10T02:22:29.961Z"
   },
   {
    "duration": 0,
    "start_time": "2024-10-10T02:22:29.962Z"
   },
   {
    "duration": 0,
    "start_time": "2024-10-10T02:22:29.964Z"
   },
   {
    "duration": 0,
    "start_time": "2024-10-10T02:22:29.965Z"
   },
   {
    "duration": 0,
    "start_time": "2024-10-10T02:22:29.966Z"
   },
   {
    "duration": 0,
    "start_time": "2024-10-10T02:22:29.968Z"
   },
   {
    "duration": 1,
    "start_time": "2024-10-10T02:22:29.969Z"
   },
   {
    "duration": 0,
    "start_time": "2024-10-10T02:22:29.970Z"
   },
   {
    "duration": 0,
    "start_time": "2024-10-10T02:22:29.972Z"
   },
   {
    "duration": 0,
    "start_time": "2024-10-10T02:22:29.973Z"
   },
   {
    "duration": 0,
    "start_time": "2024-10-10T02:22:29.974Z"
   },
   {
    "duration": 38947,
    "start_time": "2024-10-10T02:31:34.221Z"
   },
   {
    "duration": 439,
    "start_time": "2024-10-10T02:32:13.170Z"
   },
   {
    "duration": 0,
    "start_time": "2024-10-10T02:32:13.612Z"
   },
   {
    "duration": 0,
    "start_time": "2024-10-10T02:32:13.614Z"
   },
   {
    "duration": 0,
    "start_time": "2024-10-10T02:32:13.614Z"
   },
   {
    "duration": 0,
    "start_time": "2024-10-10T02:32:13.616Z"
   },
   {
    "duration": 0,
    "start_time": "2024-10-10T02:32:13.617Z"
   },
   {
    "duration": 0,
    "start_time": "2024-10-10T02:32:13.618Z"
   },
   {
    "duration": 0,
    "start_time": "2024-10-10T02:32:13.619Z"
   },
   {
    "duration": 0,
    "start_time": "2024-10-10T02:32:13.620Z"
   },
   {
    "duration": 0,
    "start_time": "2024-10-10T02:32:13.621Z"
   },
   {
    "duration": 0,
    "start_time": "2024-10-10T02:32:13.622Z"
   },
   {
    "duration": 0,
    "start_time": "2024-10-10T02:32:13.623Z"
   },
   {
    "duration": 0,
    "start_time": "2024-10-10T02:32:13.624Z"
   },
   {
    "duration": 0,
    "start_time": "2024-10-10T02:32:13.625Z"
   },
   {
    "duration": 0,
    "start_time": "2024-10-10T02:32:13.627Z"
   },
   {
    "duration": 0,
    "start_time": "2024-10-10T02:32:13.629Z"
   },
   {
    "duration": 10,
    "start_time": "2024-10-10T02:34:08.007Z"
   },
   {
    "duration": 970,
    "start_time": "2024-10-10T02:34:08.558Z"
   },
   {
    "duration": 33487,
    "start_time": "2024-10-10T02:34:09.530Z"
   },
   {
    "duration": 3,
    "start_time": "2024-10-10T02:34:43.019Z"
   },
   {
    "duration": 45917,
    "start_time": "2024-10-10T02:34:43.024Z"
   },
   {
    "duration": 640258,
    "start_time": "2024-10-10T02:35:28.943Z"
   },
   {
    "duration": 3,
    "start_time": "2024-10-10T02:46:09.203Z"
   },
   {
    "duration": 2,
    "start_time": "2024-10-10T02:46:09.212Z"
   },
   {
    "duration": 696,
    "start_time": "2024-10-10T02:46:09.216Z"
   },
   {
    "duration": 12,
    "start_time": "2024-10-10T02:46:09.914Z"
   },
   {
    "duration": 45715,
    "start_time": "2024-10-10T02:46:09.927Z"
   },
   {
    "duration": 25,
    "start_time": "2024-10-10T02:46:55.646Z"
   },
   {
    "duration": 4,
    "start_time": "2024-10-10T02:46:55.673Z"
   },
   {
    "duration": 5,
    "start_time": "2024-10-10T02:46:55.678Z"
   },
   {
    "duration": 41,
    "start_time": "2024-10-10T02:46:55.685Z"
   },
   {
    "duration": 12,
    "start_time": "2024-10-10T02:46:55.730Z"
   },
   {
    "duration": 94,
    "start_time": "2024-10-10T02:47:27.409Z"
   },
   {
    "duration": 19,
    "start_time": "2024-10-10T02:47:49.356Z"
   },
   {
    "duration": 416150,
    "start_time": "2024-10-10T02:52:46.973Z"
   },
   {
    "duration": 1038,
    "start_time": "2024-10-10T03:01:23.450Z"
   },
   {
    "duration": 1022,
    "start_time": "2024-10-10T03:01:34.591Z"
   },
   {
    "duration": 2354,
    "start_time": "2024-10-10T03:02:33.846Z"
   },
   {
    "duration": 2323,
    "start_time": "2024-10-10T03:02:48.651Z"
   },
   {
    "duration": 1630365,
    "start_time": "2024-10-10T03:08:08.030Z"
   },
   {
    "duration": 2333,
    "start_time": "2024-10-10T03:48:29.939Z"
   },
   {
    "duration": 63255,
    "start_time": "2024-10-10T03:59:15.525Z"
   },
   {
    "duration": 1684,
    "start_time": "2024-10-10T04:00:50.914Z"
   },
   {
    "duration": 417,
    "start_time": "2024-10-10T04:04:27.746Z"
   },
   {
    "duration": 9,
    "start_time": "2024-10-10T04:04:50.991Z"
   },
   {
    "duration": 4,
    "start_time": "2024-10-10T04:06:56.124Z"
   },
   {
    "duration": 9,
    "start_time": "2024-10-10T04:07:13.225Z"
   },
   {
    "duration": 14,
    "start_time": "2024-10-10T04:08:41.402Z"
   },
   {
    "duration": 5,
    "start_time": "2024-10-10T04:09:22.368Z"
   },
   {
    "duration": 4,
    "start_time": "2024-10-10T04:09:28.613Z"
   },
   {
    "duration": 46,
    "start_time": "2024-10-10T04:09:35.103Z"
   },
   {
    "duration": 9,
    "start_time": "2024-10-10T04:09:51.517Z"
   },
   {
    "duration": 203,
    "start_time": "2024-10-10T04:09:52.955Z"
   },
   {
    "duration": 933,
    "start_time": "2024-10-10T04:10:12.593Z"
   },
   {
    "duration": 869,
    "start_time": "2024-10-10T04:11:10.259Z"
   },
   {
    "duration": 33896,
    "start_time": "2024-10-10T04:11:25.421Z"
   },
   {
    "duration": 2612,
    "start_time": "2024-10-10T18:12:19.063Z"
   },
   {
    "duration": 27,
    "start_time": "2024-10-10T18:12:21.677Z"
   },
   {
    "duration": 11,
    "start_time": "2024-10-10T18:12:21.706Z"
   },
   {
    "duration": 13,
    "start_time": "2024-10-10T18:12:21.718Z"
   },
   {
    "duration": 9,
    "start_time": "2024-10-10T18:12:21.733Z"
   },
   {
    "duration": 6,
    "start_time": "2024-10-10T18:12:21.743Z"
   },
   {
    "duration": 7,
    "start_time": "2024-10-10T18:12:21.750Z"
   },
   {
    "duration": 7,
    "start_time": "2024-10-10T18:12:21.760Z"
   },
   {
    "duration": 9,
    "start_time": "2024-10-10T18:12:21.769Z"
   },
   {
    "duration": 225,
    "start_time": "2024-10-10T18:12:21.780Z"
   },
   {
    "duration": 7,
    "start_time": "2024-10-10T18:12:22.006Z"
   },
   {
    "duration": 126,
    "start_time": "2024-10-10T18:12:22.015Z"
   },
   {
    "duration": 3,
    "start_time": "2024-10-10T18:12:22.143Z"
   },
   {
    "duration": 514,
    "start_time": "2024-10-10T18:12:22.148Z"
   },
   {
    "duration": 7,
    "start_time": "2024-10-10T18:12:22.664Z"
   },
   {
    "duration": 84,
    "start_time": "2024-10-10T18:12:22.673Z"
   },
   {
    "duration": 9,
    "start_time": "2024-10-10T18:12:22.759Z"
   },
   {
    "duration": 941,
    "start_time": "2024-10-10T18:12:22.769Z"
   },
   {
    "duration": 62514,
    "start_time": "2024-10-10T18:12:23.711Z"
   },
   {
    "duration": 10,
    "start_time": "2024-10-10T18:13:26.227Z"
   },
   {
    "duration": 1088,
    "start_time": "2024-10-10T18:13:26.238Z"
   },
   {
    "duration": 32521,
    "start_time": "2024-10-10T18:13:27.328Z"
   },
   {
    "duration": 2,
    "start_time": "2024-10-10T18:13:59.853Z"
   },
   {
    "duration": 45520,
    "start_time": "2024-10-10T18:13:59.857Z"
   },
   {
    "duration": 639700,
    "start_time": "2024-10-10T18:14:45.379Z"
   },
   {
    "duration": 235,
    "start_time": "2024-10-10T18:25:25.081Z"
   },
   {
    "duration": 0,
    "start_time": "2024-10-10T18:25:25.318Z"
   },
   {
    "duration": 0,
    "start_time": "2024-10-10T18:25:25.324Z"
   },
   {
    "duration": 0,
    "start_time": "2024-10-10T18:25:25.326Z"
   },
   {
    "duration": 0,
    "start_time": "2024-10-10T18:25:25.328Z"
   },
   {
    "duration": 0,
    "start_time": "2024-10-10T18:25:25.329Z"
   },
   {
    "duration": 132,
    "start_time": "2024-10-10T18:50:59.864Z"
   },
   {
    "duration": 18,
    "start_time": "2024-10-10T18:51:07.671Z"
   },
   {
    "duration": 17,
    "start_time": "2024-10-10T18:51:37.377Z"
   },
   {
    "duration": 3,
    "start_time": "2024-10-10T18:52:29.226Z"
   },
   {
    "duration": 747,
    "start_time": "2024-10-10T18:52:29.505Z"
   },
   {
    "duration": 45561,
    "start_time": "2024-10-10T18:52:31.302Z"
   },
   {
    "duration": 28,
    "start_time": "2024-10-10T18:53:16.865Z"
   },
   {
    "duration": 4,
    "start_time": "2024-10-10T18:53:16.894Z"
   },
   {
    "duration": 35,
    "start_time": "2024-10-10T18:53:16.900Z"
   },
   {
    "duration": 0,
    "start_time": "2024-10-10T18:53:16.936Z"
   },
   {
    "duration": 16,
    "start_time": "2024-10-10T18:54:34.590Z"
   },
   {
    "duration": 8,
    "start_time": "2024-10-10T20:30:02.621Z"
   },
   {
    "duration": 381,
    "start_time": "2024-10-10T20:42:44.001Z"
   },
   {
    "duration": 317,
    "start_time": "2024-10-10T20:42:44.384Z"
   },
   {
    "duration": 2,
    "start_time": "2024-10-10T20:54:35.145Z"
   },
   {
    "duration": 3,
    "start_time": "2024-10-10T20:54:35.302Z"
   },
   {
    "duration": 812,
    "start_time": "2024-10-10T20:54:47.115Z"
   },
   {
    "duration": 23,
    "start_time": "2024-10-10T20:54:47.929Z"
   },
   {
    "duration": 8,
    "start_time": "2024-10-10T20:54:47.954Z"
   },
   {
    "duration": 9,
    "start_time": "2024-10-10T20:54:47.964Z"
   },
   {
    "duration": 11,
    "start_time": "2024-10-10T20:54:47.976Z"
   },
   {
    "duration": 7,
    "start_time": "2024-10-10T20:54:47.988Z"
   },
   {
    "duration": 36,
    "start_time": "2024-10-10T20:54:47.997Z"
   },
   {
    "duration": 11,
    "start_time": "2024-10-10T20:54:48.035Z"
   },
   {
    "duration": 11,
    "start_time": "2024-10-10T20:54:48.047Z"
   },
   {
    "duration": 190,
    "start_time": "2024-10-10T20:54:48.060Z"
   },
   {
    "duration": 8,
    "start_time": "2024-10-10T20:54:48.252Z"
   },
   {
    "duration": 4,
    "start_time": "2024-10-10T20:54:48.262Z"
   },
   {
    "duration": 163,
    "start_time": "2024-10-10T20:54:48.268Z"
   },
   {
    "duration": 5,
    "start_time": "2024-10-10T20:54:48.435Z"
   },
   {
    "duration": 467,
    "start_time": "2024-10-10T20:54:48.442Z"
   },
   {
    "duration": 3,
    "start_time": "2024-10-10T20:54:48.911Z"
   },
   {
    "duration": 2,
    "start_time": "2024-10-10T20:54:48.916Z"
   },
   {
    "duration": 6,
    "start_time": "2024-10-10T20:54:48.931Z"
   },
   {
    "duration": 5,
    "start_time": "2024-10-10T20:59:24.635Z"
   },
   {
    "duration": 244,
    "start_time": "2024-10-10T20:59:27.582Z"
   },
   {
    "duration": 0,
    "start_time": "2024-10-10T20:59:27.832Z"
   },
   {
    "duration": 7,
    "start_time": "2024-10-10T20:59:28.117Z"
   },
   {
    "duration": 6,
    "start_time": "2024-10-10T21:00:24.323Z"
   },
   {
    "duration": 17,
    "start_time": "2024-10-10T21:00:24.331Z"
   },
   {
    "duration": 6,
    "start_time": "2024-10-10T21:00:24.349Z"
   },
   {
    "duration": 9,
    "start_time": "2024-10-10T21:00:24.357Z"
   },
   {
    "duration": 9,
    "start_time": "2024-10-10T21:00:24.369Z"
   },
   {
    "duration": 6,
    "start_time": "2024-10-10T21:00:24.380Z"
   },
   {
    "duration": 6,
    "start_time": "2024-10-10T21:00:24.388Z"
   },
   {
    "duration": 42,
    "start_time": "2024-10-10T21:00:24.396Z"
   },
   {
    "duration": 9,
    "start_time": "2024-10-10T21:00:24.440Z"
   },
   {
    "duration": 186,
    "start_time": "2024-10-10T21:00:24.451Z"
   },
   {
    "duration": 7,
    "start_time": "2024-10-10T21:00:24.638Z"
   },
   {
    "duration": 4,
    "start_time": "2024-10-10T21:00:24.647Z"
   },
   {
    "duration": 237,
    "start_time": "2024-10-10T21:00:24.653Z"
   },
   {
    "duration": 2,
    "start_time": "2024-10-10T21:00:24.893Z"
   },
   {
    "duration": 468,
    "start_time": "2024-10-10T21:00:24.897Z"
   },
   {
    "duration": 6,
    "start_time": "2024-10-10T21:00:25.367Z"
   },
   {
    "duration": 7,
    "start_time": "2024-10-10T21:00:38.139Z"
   },
   {
    "duration": 9,
    "start_time": "2024-10-10T21:02:12.886Z"
   },
   {
    "duration": 10,
    "start_time": "2024-10-10T21:02:14.575Z"
   },
   {
    "duration": 11,
    "start_time": "2024-10-10T21:02:15.237Z"
   },
   {
    "duration": 3,
    "start_time": "2024-10-10T21:03:09.139Z"
   },
   {
    "duration": 16,
    "start_time": "2024-10-10T21:03:09.145Z"
   },
   {
    "duration": 8,
    "start_time": "2024-10-10T21:03:09.162Z"
   },
   {
    "duration": 9,
    "start_time": "2024-10-10T21:03:09.172Z"
   },
   {
    "duration": 10,
    "start_time": "2024-10-10T21:03:09.184Z"
   },
   {
    "duration": 8,
    "start_time": "2024-10-10T21:03:09.196Z"
   },
   {
    "duration": 9,
    "start_time": "2024-10-10T21:03:09.232Z"
   },
   {
    "duration": 8,
    "start_time": "2024-10-10T21:03:09.244Z"
   },
   {
    "duration": 9,
    "start_time": "2024-10-10T21:03:09.254Z"
   },
   {
    "duration": 186,
    "start_time": "2024-10-10T21:03:09.264Z"
   },
   {
    "duration": 7,
    "start_time": "2024-10-10T21:03:09.452Z"
   },
   {
    "duration": 4,
    "start_time": "2024-10-10T21:03:09.461Z"
   },
   {
    "duration": 148,
    "start_time": "2024-10-10T21:03:09.467Z"
   },
   {
    "duration": 3,
    "start_time": "2024-10-10T21:03:09.618Z"
   },
   {
    "duration": 453,
    "start_time": "2024-10-10T21:03:09.631Z"
   },
   {
    "duration": 9,
    "start_time": "2024-10-10T21:03:10.086Z"
   },
   {
    "duration": 10,
    "start_time": "2024-10-10T21:03:10.096Z"
   },
   {
    "duration": 95,
    "start_time": "2024-10-10T21:03:10.108Z"
   },
   {
    "duration": 12,
    "start_time": "2024-10-10T21:03:10.205Z"
   },
   {
    "duration": 5,
    "start_time": "2024-10-10T21:04:24.246Z"
   },
   {
    "duration": 8,
    "start_time": "2024-10-10T21:04:28.634Z"
   },
   {
    "duration": 3,
    "start_time": "2024-10-10T21:04:57.169Z"
   },
   {
    "duration": 19,
    "start_time": "2024-10-10T21:04:57.174Z"
   },
   {
    "duration": 6,
    "start_time": "2024-10-10T21:04:57.195Z"
   },
   {
    "duration": 10,
    "start_time": "2024-10-10T21:04:57.204Z"
   },
   {
    "duration": 10,
    "start_time": "2024-10-10T21:04:57.215Z"
   },
   {
    "duration": 6,
    "start_time": "2024-10-10T21:04:57.230Z"
   },
   {
    "duration": 7,
    "start_time": "2024-10-10T21:04:57.238Z"
   },
   {
    "duration": 9,
    "start_time": "2024-10-10T21:04:57.247Z"
   },
   {
    "duration": 9,
    "start_time": "2024-10-10T21:04:57.259Z"
   },
   {
    "duration": 185,
    "start_time": "2024-10-10T21:04:57.270Z"
   },
   {
    "duration": 7,
    "start_time": "2024-10-10T21:04:57.457Z"
   },
   {
    "duration": 4,
    "start_time": "2024-10-10T21:04:57.466Z"
   },
   {
    "duration": 159,
    "start_time": "2024-10-10T21:04:57.472Z"
   },
   {
    "duration": 2,
    "start_time": "2024-10-10T21:04:57.633Z"
   },
   {
    "duration": 597,
    "start_time": "2024-10-10T21:04:57.637Z"
   },
   {
    "duration": 11,
    "start_time": "2024-10-10T21:04:58.237Z"
   },
   {
    "duration": 11,
    "start_time": "2024-10-10T21:04:58.250Z"
   },
   {
    "duration": 11,
    "start_time": "2024-10-10T21:04:58.262Z"
   },
   {
    "duration": 2,
    "start_time": "2024-10-10T21:04:58.276Z"
   },
   {
    "duration": 2,
    "start_time": "2024-10-10T21:04:58.280Z"
   },
   {
    "duration": 4,
    "start_time": "2024-10-10T21:04:58.284Z"
   },
   {
    "duration": 8,
    "start_time": "2024-10-10T21:04:58.289Z"
   },
   {
    "duration": 3,
    "start_time": "2024-10-10T21:07:27.222Z"
   },
   {
    "duration": 16,
    "start_time": "2024-10-10T21:07:27.228Z"
   },
   {
    "duration": 6,
    "start_time": "2024-10-10T21:07:27.245Z"
   },
   {
    "duration": 9,
    "start_time": "2024-10-10T21:07:27.252Z"
   },
   {
    "duration": 9,
    "start_time": "2024-10-10T21:07:27.264Z"
   },
   {
    "duration": 6,
    "start_time": "2024-10-10T21:07:27.275Z"
   },
   {
    "duration": 7,
    "start_time": "2024-10-10T21:07:27.282Z"
   },
   {
    "duration": 8,
    "start_time": "2024-10-10T21:07:27.291Z"
   },
   {
    "duration": 39,
    "start_time": "2024-10-10T21:07:27.300Z"
   },
   {
    "duration": 177,
    "start_time": "2024-10-10T21:07:27.341Z"
   },
   {
    "duration": 16,
    "start_time": "2024-10-10T21:07:27.520Z"
   },
   {
    "duration": 4,
    "start_time": "2024-10-10T21:07:27.538Z"
   },
   {
    "duration": 157,
    "start_time": "2024-10-10T21:07:27.544Z"
   },
   {
    "duration": 2,
    "start_time": "2024-10-10T21:07:27.704Z"
   },
   {
    "duration": 501,
    "start_time": "2024-10-10T21:07:27.708Z"
   },
   {
    "duration": 3,
    "start_time": "2024-10-10T21:07:28.211Z"
   },
   {
    "duration": 22,
    "start_time": "2024-10-10T21:07:28.215Z"
   },
   {
    "duration": 12,
    "start_time": "2024-10-10T21:07:28.239Z"
   },
   {
    "duration": 9,
    "start_time": "2024-10-10T21:07:31.319Z"
   },
   {
    "duration": 11,
    "start_time": "2024-10-10T21:07:33.929Z"
   },
   {
    "duration": 3,
    "start_time": "2024-10-10T21:09:21.239Z"
   },
   {
    "duration": 2,
    "start_time": "2024-10-10T21:09:21.247Z"
   },
   {
    "duration": 15,
    "start_time": "2024-10-10T21:09:21.251Z"
   },
   {
    "duration": 5,
    "start_time": "2024-10-10T21:09:21.268Z"
   },
   {
    "duration": 9,
    "start_time": "2024-10-10T21:09:21.274Z"
   },
   {
    "duration": 8,
    "start_time": "2024-10-10T21:09:21.286Z"
   },
   {
    "duration": 6,
    "start_time": "2024-10-10T21:09:21.296Z"
   },
   {
    "duration": 8,
    "start_time": "2024-10-10T21:09:21.332Z"
   },
   {
    "duration": 8,
    "start_time": "2024-10-10T21:09:21.341Z"
   },
   {
    "duration": 9,
    "start_time": "2024-10-10T21:09:21.351Z"
   },
   {
    "duration": 196,
    "start_time": "2024-10-10T21:09:21.362Z"
   },
   {
    "duration": 7,
    "start_time": "2024-10-10T21:09:21.559Z"
   },
   {
    "duration": 3,
    "start_time": "2024-10-10T21:09:21.568Z"
   },
   {
    "duration": 149,
    "start_time": "2024-10-10T21:09:21.573Z"
   },
   {
    "duration": 3,
    "start_time": "2024-10-10T21:09:21.730Z"
   },
   {
    "duration": 459,
    "start_time": "2024-10-10T21:09:21.735Z"
   },
   {
    "duration": 3,
    "start_time": "2024-10-10T21:09:22.196Z"
   },
   {
    "duration": 9,
    "start_time": "2024-10-10T21:09:22.201Z"
   },
   {
    "duration": 26,
    "start_time": "2024-10-10T21:09:22.212Z"
   },
   {
    "duration": 13,
    "start_time": "2024-10-10T21:09:22.239Z"
   },
   {
    "duration": 3,
    "start_time": "2024-10-10T21:09:22.254Z"
   },
   {
    "duration": 3,
    "start_time": "2024-10-10T21:09:22.259Z"
   },
   {
    "duration": 4,
    "start_time": "2024-10-10T21:09:22.264Z"
   },
   {
    "duration": 16,
    "start_time": "2024-10-10T21:09:22.270Z"
   },
   {
    "duration": 4,
    "start_time": "2024-10-10T21:09:45.937Z"
   },
   {
    "duration": 4,
    "start_time": "2024-10-10T21:10:03.526Z"
   },
   {
    "duration": 3,
    "start_time": "2024-10-10T21:10:39.582Z"
   },
   {
    "duration": 3,
    "start_time": "2024-10-10T21:10:45.997Z"
   },
   {
    "duration": 4,
    "start_time": "2024-10-10T21:11:16.705Z"
   },
   {
    "duration": 15,
    "start_time": "2024-10-10T21:11:50.448Z"
   },
   {
    "duration": 13,
    "start_time": "2024-10-10T21:12:09.731Z"
   },
   {
    "duration": 16,
    "start_time": "2024-10-10T21:12:21.551Z"
   },
   {
    "duration": 5,
    "start_time": "2024-10-10T21:12:51.629Z"
   },
   {
    "duration": 1363,
    "start_time": "2024-10-10T21:13:41.016Z"
   },
   {
    "duration": 90190,
    "start_time": "2024-10-10T21:13:44.141Z"
   },
   {
    "duration": 16,
    "start_time": "2024-10-10T21:15:14.336Z"
   },
   {
    "duration": 2186,
    "start_time": "2024-10-10T21:15:14.356Z"
   },
   {
    "duration": 31406,
    "start_time": "2024-10-10T21:15:16.544Z"
   },
   {
    "duration": 3,
    "start_time": "2024-10-10T21:15:47.952Z"
   },
   {
    "duration": 46256,
    "start_time": "2024-10-10T21:15:47.957Z"
   },
   {
    "duration": 640627,
    "start_time": "2024-10-10T21:16:34.231Z"
   },
   {
    "duration": 3,
    "start_time": "2024-10-10T21:27:14.859Z"
   },
   {
    "duration": 2123,
    "start_time": "2024-10-10T21:27:14.865Z"
   },
   {
    "duration": 46020,
    "start_time": "2024-10-10T21:27:16.990Z"
   },
   {
    "duration": 45,
    "start_time": "2024-10-10T21:28:03.012Z"
   },
   {
    "duration": 4,
    "start_time": "2024-10-10T21:28:03.059Z"
   },
   {
    "duration": 12,
    "start_time": "2024-10-10T21:42:44.514Z"
   },
   {
    "duration": 5,
    "start_time": "2024-10-10T21:52:08.308Z"
   },
   {
    "duration": 3,
    "start_time": "2024-10-10T21:52:08.923Z"
   },
   {
    "duration": 22,
    "start_time": "2024-10-10T21:52:11.644Z"
   },
   {
    "duration": 6,
    "start_time": "2024-10-10T21:53:54.135Z"
   },
   {
    "duration": 345,
    "start_time": "2024-10-10T21:53:54.539Z"
   },
   {
    "duration": 4,
    "start_time": "2024-10-10T21:54:45.768Z"
   },
   {
    "duration": 4,
    "start_time": "2024-10-10T21:55:02.889Z"
   },
   {
    "duration": 12,
    "start_time": "2024-10-10T21:55:03.062Z"
   },
   {
    "duration": 11,
    "start_time": "2024-10-10T21:56:43.981Z"
   },
   {
    "duration": 159,
    "start_time": "2024-10-12T15:48:32.296Z"
   },
   {
    "duration": 11,
    "start_time": "2024-10-12T15:48:33.966Z"
   },
   {
    "duration": 12,
    "start_time": "2024-10-12T15:48:34.304Z"
   },
   {
    "duration": 12,
    "start_time": "2024-10-12T15:48:34.853Z"
   },
   {
    "duration": 2762,
    "start_time": "2024-10-12T15:48:41.254Z"
   },
   {
    "duration": 2,
    "start_time": "2024-10-12T15:48:44.018Z"
   },
   {
    "duration": 597,
    "start_time": "2024-10-12T15:48:44.022Z"
   },
   {
    "duration": 0,
    "start_time": "2024-10-12T15:48:44.623Z"
   },
   {
    "duration": 0,
    "start_time": "2024-10-12T15:48:44.631Z"
   },
   {
    "duration": 0,
    "start_time": "2024-10-12T15:48:44.633Z"
   },
   {
    "duration": 0,
    "start_time": "2024-10-12T15:48:44.635Z"
   },
   {
    "duration": 0,
    "start_time": "2024-10-12T15:48:44.635Z"
   },
   {
    "duration": 0,
    "start_time": "2024-10-12T15:48:44.636Z"
   },
   {
    "duration": 0,
    "start_time": "2024-10-12T15:48:44.638Z"
   },
   {
    "duration": 0,
    "start_time": "2024-10-12T15:48:44.639Z"
   },
   {
    "duration": 0,
    "start_time": "2024-10-12T15:48:44.640Z"
   },
   {
    "duration": 0,
    "start_time": "2024-10-12T15:48:44.641Z"
   },
   {
    "duration": 0,
    "start_time": "2024-10-12T15:48:44.642Z"
   },
   {
    "duration": 0,
    "start_time": "2024-10-12T15:48:44.644Z"
   },
   {
    "duration": 0,
    "start_time": "2024-10-12T15:48:44.645Z"
   },
   {
    "duration": 0,
    "start_time": "2024-10-12T15:48:44.646Z"
   },
   {
    "duration": 0,
    "start_time": "2024-10-12T15:48:44.647Z"
   },
   {
    "duration": 0,
    "start_time": "2024-10-12T15:48:44.649Z"
   },
   {
    "duration": 0,
    "start_time": "2024-10-12T15:48:44.650Z"
   },
   {
    "duration": 0,
    "start_time": "2024-10-12T15:48:44.652Z"
   },
   {
    "duration": 0,
    "start_time": "2024-10-12T15:48:44.654Z"
   },
   {
    "duration": 0,
    "start_time": "2024-10-12T15:48:44.657Z"
   },
   {
    "duration": 0,
    "start_time": "2024-10-12T15:48:44.657Z"
   },
   {
    "duration": 0,
    "start_time": "2024-10-12T15:48:44.658Z"
   },
   {
    "duration": 0,
    "start_time": "2024-10-12T15:48:44.659Z"
   },
   {
    "duration": 0,
    "start_time": "2024-10-12T15:48:44.660Z"
   },
   {
    "duration": 0,
    "start_time": "2024-10-12T15:48:44.662Z"
   },
   {
    "duration": 0,
    "start_time": "2024-10-12T15:48:44.663Z"
   },
   {
    "duration": 0,
    "start_time": "2024-10-12T15:48:44.664Z"
   },
   {
    "duration": 0,
    "start_time": "2024-10-12T15:48:44.666Z"
   },
   {
    "duration": 0,
    "start_time": "2024-10-12T15:48:44.667Z"
   },
   {
    "duration": 0,
    "start_time": "2024-10-12T15:48:44.669Z"
   },
   {
    "duration": 0,
    "start_time": "2024-10-12T15:48:44.670Z"
   },
   {
    "duration": 0,
    "start_time": "2024-10-12T15:48:44.671Z"
   },
   {
    "duration": 0,
    "start_time": "2024-10-12T15:48:44.673Z"
   },
   {
    "duration": 0,
    "start_time": "2024-10-12T15:48:44.731Z"
   },
   {
    "duration": 0,
    "start_time": "2024-10-12T15:48:44.732Z"
   },
   {
    "duration": 0,
    "start_time": "2024-10-12T15:48:44.734Z"
   },
   {
    "duration": 0,
    "start_time": "2024-10-12T15:48:44.735Z"
   },
   {
    "duration": 31,
    "start_time": "2024-10-12T15:49:26.373Z"
   },
   {
    "duration": 10,
    "start_time": "2024-10-12T15:49:26.716Z"
   },
   {
    "duration": 10,
    "start_time": "2024-10-12T15:49:26.926Z"
   },
   {
    "duration": 11,
    "start_time": "2024-10-12T15:49:27.149Z"
   },
   {
    "duration": 6,
    "start_time": "2024-10-12T15:49:27.377Z"
   },
   {
    "duration": 6,
    "start_time": "2024-10-12T15:49:27.606Z"
   },
   {
    "duration": 8,
    "start_time": "2024-10-12T15:49:28.309Z"
   },
   {
    "duration": 11,
    "start_time": "2024-10-12T15:49:30.006Z"
   },
   {
    "duration": 186,
    "start_time": "2024-10-12T15:49:30.734Z"
   },
   {
    "duration": 7,
    "start_time": "2024-10-12T15:49:31.005Z"
   },
   {
    "duration": 4,
    "start_time": "2024-10-12T15:49:31.796Z"
   },
   {
    "duration": 133,
    "start_time": "2024-10-12T15:49:32.055Z"
   },
   {
    "duration": 2,
    "start_time": "2024-10-12T15:49:32.779Z"
   },
   {
    "duration": 63,
    "start_time": "2024-10-12T15:49:39.949Z"
   },
   {
    "duration": 6,
    "start_time": "2024-10-12T15:49:53.169Z"
   },
   {
    "duration": 3,
    "start_time": "2024-10-12T15:50:06.206Z"
   },
   {
    "duration": 556,
    "start_time": "2024-10-12T15:50:34.040Z"
   },
   {
    "duration": 3,
    "start_time": "2024-10-12T15:50:37.280Z"
   },
   {
    "duration": 10,
    "start_time": "2024-10-12T15:50:38.388Z"
   },
   {
    "duration": 18,
    "start_time": "2024-10-12T15:50:39.171Z"
   },
   {
    "duration": 12,
    "start_time": "2024-10-12T15:50:40.982Z"
   },
   {
    "duration": 2,
    "start_time": "2024-10-12T15:50:41.389Z"
   },
   {
    "duration": 3,
    "start_time": "2024-10-12T15:50:41.726Z"
   },
   {
    "duration": 6,
    "start_time": "2024-10-12T15:50:42.380Z"
   },
   {
    "duration": 2,
    "start_time": "2024-10-12T15:50:42.745Z"
   },
   {
    "duration": 11,
    "start_time": "2024-10-12T15:50:43.096Z"
   },
   {
    "duration": 10,
    "start_time": "2024-10-12T15:50:44.197Z"
   },
   {
    "duration": 1360,
    "start_time": "2024-10-12T15:50:45.060Z"
   },
   {
    "duration": 983,
    "start_time": "2024-10-12T15:52:12.006Z"
   },
   {
    "duration": 3,
    "start_time": "2024-10-12T15:52:12.992Z"
   },
   {
    "duration": 18,
    "start_time": "2024-10-12T15:52:12.997Z"
   },
   {
    "duration": 18,
    "start_time": "2024-10-12T15:52:13.016Z"
   },
   {
    "duration": 9,
    "start_time": "2024-10-12T15:52:13.037Z"
   },
   {
    "duration": 12,
    "start_time": "2024-10-12T15:52:13.047Z"
   },
   {
    "duration": 6,
    "start_time": "2024-10-12T15:52:13.061Z"
   },
   {
    "duration": 7,
    "start_time": "2024-10-12T15:52:13.069Z"
   },
   {
    "duration": 9,
    "start_time": "2024-10-12T15:52:13.077Z"
   },
   {
    "duration": 47,
    "start_time": "2024-10-12T15:52:13.088Z"
   },
   {
    "duration": 215,
    "start_time": "2024-10-12T15:52:13.137Z"
   },
   {
    "duration": 8,
    "start_time": "2024-10-12T15:52:13.354Z"
   },
   {
    "duration": 3,
    "start_time": "2024-10-12T15:52:13.364Z"
   },
   {
    "duration": 133,
    "start_time": "2024-10-12T15:52:13.371Z"
   },
   {
    "duration": 2,
    "start_time": "2024-10-12T15:52:13.506Z"
   },
   {
    "duration": 469,
    "start_time": "2024-10-12T15:52:13.510Z"
   },
   {
    "duration": 2,
    "start_time": "2024-10-12T15:52:13.981Z"
   },
   {
    "duration": 10,
    "start_time": "2024-10-12T15:52:13.985Z"
   },
   {
    "duration": 12,
    "start_time": "2024-10-12T15:52:13.997Z"
   },
   {
    "duration": 28,
    "start_time": "2024-10-12T15:52:14.010Z"
   },
   {
    "duration": 2,
    "start_time": "2024-10-12T15:52:14.041Z"
   },
   {
    "duration": 2,
    "start_time": "2024-10-12T15:52:14.045Z"
   },
   {
    "duration": 4,
    "start_time": "2024-10-12T15:52:14.049Z"
   },
   {
    "duration": 2,
    "start_time": "2024-10-12T15:52:14.055Z"
   },
   {
    "duration": 11,
    "start_time": "2024-10-12T15:52:14.059Z"
   },
   {
    "duration": 1398,
    "start_time": "2024-10-12T15:52:14.071Z"
   },
   {
    "duration": 87661,
    "start_time": "2024-10-12T15:52:15.471Z"
   },
   {
    "duration": 10,
    "start_time": "2024-10-12T15:53:43.134Z"
   },
   {
    "duration": 2092,
    "start_time": "2024-10-12T15:53:43.146Z"
   },
   {
    "duration": 33410,
    "start_time": "2024-10-12T15:53:45.240Z"
   },
   {
    "duration": 3,
    "start_time": "2024-10-12T15:54:18.652Z"
   },
   {
    "duration": 45841,
    "start_time": "2024-10-12T15:54:18.657Z"
   },
   {
    "duration": 1006,
    "start_time": "2024-10-12T16:05:18.594Z"
   },
   {
    "duration": 2,
    "start_time": "2024-10-12T16:05:19.602Z"
   },
   {
    "duration": 29,
    "start_time": "2024-10-12T16:05:19.606Z"
   },
   {
    "duration": 9,
    "start_time": "2024-10-12T16:05:19.638Z"
   },
   {
    "duration": 9,
    "start_time": "2024-10-12T16:05:19.649Z"
   },
   {
    "duration": 11,
    "start_time": "2024-10-12T16:05:19.660Z"
   },
   {
    "duration": 6,
    "start_time": "2024-10-12T16:05:19.673Z"
   },
   {
    "duration": 7,
    "start_time": "2024-10-12T16:05:19.681Z"
   },
   {
    "duration": 45,
    "start_time": "2024-10-12T16:05:19.690Z"
   },
   {
    "duration": 10,
    "start_time": "2024-10-12T16:05:19.739Z"
   },
   {
    "duration": 209,
    "start_time": "2024-10-12T16:05:19.751Z"
   },
   {
    "duration": 8,
    "start_time": "2024-10-12T16:05:19.962Z"
   },
   {
    "duration": 3,
    "start_time": "2024-10-12T16:05:19.973Z"
   },
   {
    "duration": 153,
    "start_time": "2024-10-12T16:05:19.979Z"
   },
   {
    "duration": 5,
    "start_time": "2024-10-12T16:05:20.134Z"
   },
   {
    "duration": 447,
    "start_time": "2024-10-12T16:05:20.140Z"
   },
   {
    "duration": 3,
    "start_time": "2024-10-12T16:05:20.589Z"
   },
   {
    "duration": 10,
    "start_time": "2024-10-12T16:05:20.593Z"
   },
   {
    "duration": 34,
    "start_time": "2024-10-12T16:05:20.606Z"
   },
   {
    "duration": 12,
    "start_time": "2024-10-12T16:05:20.641Z"
   },
   {
    "duration": 3,
    "start_time": "2024-10-12T16:05:20.654Z"
   },
   {
    "duration": 3,
    "start_time": "2024-10-12T16:05:20.659Z"
   },
   {
    "duration": 5,
    "start_time": "2024-10-12T16:05:20.663Z"
   },
   {
    "duration": 3,
    "start_time": "2024-10-12T16:05:20.669Z"
   },
   {
    "duration": 12,
    "start_time": "2024-10-12T16:05:20.673Z"
   },
   {
    "duration": 1381,
    "start_time": "2024-10-12T16:05:20.687Z"
   },
   {
    "duration": 88082,
    "start_time": "2024-10-12T16:05:22.070Z"
   },
   {
    "duration": 16,
    "start_time": "2024-10-12T16:06:50.157Z"
   },
   {
    "duration": 2265,
    "start_time": "2024-10-12T16:06:50.178Z"
   },
   {
    "duration": 31700,
    "start_time": "2024-10-12T16:06:52.445Z"
   },
   {
    "duration": 3,
    "start_time": "2024-10-12T16:07:24.148Z"
   },
   {
    "duration": 46007,
    "start_time": "2024-10-12T16:07:24.154Z"
   },
   {
    "duration": 635068,
    "start_time": "2024-10-12T16:08:10.163Z"
   },
   {
    "duration": 2,
    "start_time": "2024-10-12T16:18:45.233Z"
   },
   {
    "duration": 1243,
    "start_time": "2024-10-12T16:18:45.237Z"
   },
   {
    "duration": 46620,
    "start_time": "2024-10-12T16:18:46.482Z"
   },
   {
    "duration": 48,
    "start_time": "2024-10-12T16:19:33.104Z"
   },
   {
    "duration": 3,
    "start_time": "2024-10-12T16:19:33.154Z"
   },
   {
    "duration": 9,
    "start_time": "2024-10-12T16:19:33.159Z"
   }
  ],
  "kernelspec": {
   "display_name": "Python 3 (ipykernel)",
   "language": "python",
   "name": "python3"
  },
  "language_info": {
   "codemirror_mode": {
    "name": "ipython",
    "version": 3
   },
   "file_extension": ".py",
   "mimetype": "text/x-python",
   "name": "python",
   "nbconvert_exporter": "python",
   "pygments_lexer": "ipython3",
   "version": "3.9.19"
  },
  "toc": {
   "base_numbering": 1,
   "nav_menu": {},
   "number_sections": true,
   "sideBar": true,
   "skip_h1_title": true,
   "title_cell": "Table of Contents",
   "title_sidebar": "Contents",
   "toc_cell": false,
   "toc_position": {},
   "toc_section_display": true,
   "toc_window_display": false
  }
 },
 "nbformat": 4,
 "nbformat_minor": 4
}
